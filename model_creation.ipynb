{
 "cells": [
  {
   "cell_type": "code",
   "execution_count": 1,
   "metadata": {
    "collapsed": true,
    "jupyter": {
     "outputs_hidden": true
    }
   },
   "outputs": [
    {
     "name": "stdout",
     "output_type": "stream",
     "text": [
      "/opt/conda/lib/python3.7/site-packages/secretstorage/dhcrypto.py:16: CryptographyDeprecationWarning: int_from_bytes is deprecated, use int.from_bytes instead\n",
      "  from cryptography.utils import int_from_bytes\n",
      "/opt/conda/lib/python3.7/site-packages/secretstorage/util.py:25: CryptographyDeprecationWarning: int_from_bytes is deprecated, use int.from_bytes instead\n",
      "  from cryptography.utils import int_from_bytes\n",
      "Requirement already satisfied: xgboost==1.3.1 in /opt/conda/lib/python3.7/site-packages (1.3.1)\n",
      "Requirement already satisfied: numpy in /opt/conda/lib/python3.7/site-packages (from xgboost==1.3.1) (1.20.3)\n",
      "Requirement already satisfied: scipy in /opt/conda/lib/python3.7/site-packages (from xgboost==1.3.1) (1.7.3)\n",
      "\u001b[33mWARNING: Running pip as the 'root' user can result in broken permissions and conflicting behaviour with the system package manager. It is recommended to use a virtual environment instead: https://pip.pypa.io/warnings/venv\u001b[0m\n",
      "\u001b[33mWARNING: You are using pip version 21.3.1; however, version 22.0.3 is available.\n",
      "You should consider upgrading via the '/opt/conda/bin/python -m pip install --upgrade pip' command.\u001b[0m\n",
      "Note: you may need to restart the kernel to use updated packages.\n"
     ]
    }
   ],
   "source": [
    "pip install xgboost==1.3.1"
   ]
  },
  {
   "cell_type": "code",
   "execution_count": 2,
   "metadata": {},
   "outputs": [],
   "source": [
    "import pandas as pd\n",
    "import numpy as np\n",
    "import xgboost as xgb\n",
    "import boto3\n",
    "import io\n",
    "import seaborn as sns\n",
    "from sklearn.preprocessing import StandardScaler\n",
    "from sklearn.model_selection import train_test_split\n",
    "from sklearn.model_selection import GridSearchCV, RandomizedSearchCV\n",
    "\n",
    "\n",
    "from sklearn.metrics import accuracy_score"
   ]
  },
  {
   "cell_type": "code",
   "execution_count": 4,
   "metadata": {},
   "outputs": [],
   "source": [
    "bucket = 'crop-reco'\n",
    "key = 'export-crop-flow/output/data-wrangler-flow-processing-01-13-18-20-6a9b37d3/18bf8a46-9628-463c-9d31-38453e5dee22/default/part-00000-834d3361-bd36-4828-b09c-2ebb5ef38dae-c000.csv'\n",
    "s3_client = boto3.client('s3')\n",
    "obj = s3_client.get_object(Bucket = bucket, Key = key)\n",
    "df = pd.read_csv(io.BytesIO(obj['Body'].read()))"
   ]
  },
  {
   "cell_type": "code",
   "execution_count": 5,
   "metadata": {
    "scrolled": true
   },
   "outputs": [
    {
     "data": {
      "text/html": [
       "<div>\n",
       "<style scoped>\n",
       "    .dataframe tbody tr th:only-of-type {\n",
       "        vertical-align: middle;\n",
       "    }\n",
       "\n",
       "    .dataframe tbody tr th {\n",
       "        vertical-align: top;\n",
       "    }\n",
       "\n",
       "    .dataframe thead th {\n",
       "        text-align: right;\n",
       "    }\n",
       "</style>\n",
       "<table border=\"1\" class=\"dataframe\">\n",
       "  <thead>\n",
       "    <tr style=\"text-align: right;\">\n",
       "      <th></th>\n",
       "      <th>N</th>\n",
       "      <th>P</th>\n",
       "      <th>K</th>\n",
       "      <th>temperature</th>\n",
       "      <th>humidity</th>\n",
       "      <th>ph</th>\n",
       "      <th>rainfall</th>\n",
       "      <th>label</th>\n",
       "    </tr>\n",
       "  </thead>\n",
       "  <tbody>\n",
       "    <tr>\n",
       "      <th>0</th>\n",
       "      <td>1.068554</td>\n",
       "      <td>-0.344472</td>\n",
       "      <td>-0.101664</td>\n",
       "      <td>-0.935374</td>\n",
       "      <td>0.472559</td>\n",
       "      <td>0.043292</td>\n",
       "      <td>1.809949</td>\n",
       "      <td>rice</td>\n",
       "    </tr>\n",
       "    <tr>\n",
       "      <th>1</th>\n",
       "      <td>0.933117</td>\n",
       "      <td>0.140584</td>\n",
       "      <td>-0.141153</td>\n",
       "      <td>-0.759473</td>\n",
       "      <td>0.396961</td>\n",
       "      <td>0.734706</td>\n",
       "      <td>2.241548</td>\n",
       "      <td>rice</td>\n",
       "    </tr>\n",
       "    <tr>\n",
       "      <th>2</th>\n",
       "      <td>0.255928</td>\n",
       "      <td>0.049636</td>\n",
       "      <td>-0.081920</td>\n",
       "      <td>-0.515781</td>\n",
       "      <td>0.486843</td>\n",
       "      <td>1.771108</td>\n",
       "      <td>2.920402</td>\n",
       "      <td>rice</td>\n",
       "    </tr>\n",
       "    <tr>\n",
       "      <th>3</th>\n",
       "      <td>0.635154</td>\n",
       "      <td>-0.556684</td>\n",
       "      <td>-0.160897</td>\n",
       "      <td>0.172768</td>\n",
       "      <td>0.389717</td>\n",
       "      <td>0.660158</td>\n",
       "      <td>2.536471</td>\n",
       "      <td>rice</td>\n",
       "    </tr>\n",
       "    <tr>\n",
       "      <th>4</th>\n",
       "      <td>0.743504</td>\n",
       "      <td>-0.344472</td>\n",
       "      <td>-0.121409</td>\n",
       "      <td>-1.083401</td>\n",
       "      <td>0.454688</td>\n",
       "      <td>1.497527</td>\n",
       "      <td>2.897714</td>\n",
       "      <td>rice</td>\n",
       "    </tr>\n",
       "    <tr>\n",
       "      <th>...</th>\n",
       "      <td>...</td>\n",
       "      <td>...</td>\n",
       "      <td>...</td>\n",
       "      <td>...</td>\n",
       "      <td>...</td>\n",
       "      <td>...</td>\n",
       "      <td>...</td>\n",
       "      <td>...</td>\n",
       "    </tr>\n",
       "    <tr>\n",
       "      <th>2195</th>\n",
       "      <td>1.529043</td>\n",
       "      <td>-0.587000</td>\n",
       "      <td>-0.318850</td>\n",
       "      <td>0.228762</td>\n",
       "      <td>-0.227657</td>\n",
       "      <td>0.401303</td>\n",
       "      <td>1.352129</td>\n",
       "      <td>coffee</td>\n",
       "    </tr>\n",
       "    <tr>\n",
       "      <th>2196</th>\n",
       "      <td>1.312342</td>\n",
       "      <td>-1.163004</td>\n",
       "      <td>-0.417571</td>\n",
       "      <td>0.355639</td>\n",
       "      <td>-0.666796</td>\n",
       "      <td>-0.494300</td>\n",
       "      <td>0.445081</td>\n",
       "      <td>coffee</td>\n",
       "    </tr>\n",
       "    <tr>\n",
       "      <th>2197</th>\n",
       "      <td>1.827006</td>\n",
       "      <td>-0.617316</td>\n",
       "      <td>-0.358338</td>\n",
       "      <td>-0.293152</td>\n",
       "      <td>-0.191192</td>\n",
       "      <td>-0.138089</td>\n",
       "      <td>1.271129</td>\n",
       "      <td>coffee</td>\n",
       "    </tr>\n",
       "    <tr>\n",
       "      <th>2198</th>\n",
       "      <td>1.799918</td>\n",
       "      <td>-0.647632</td>\n",
       "      <td>-0.279362</td>\n",
       "      <td>0.129583</td>\n",
       "      <td>-0.869320</td>\n",
       "      <td>0.373819</td>\n",
       "      <td>0.431447</td>\n",
       "      <td>coffee</td>\n",
       "    </tr>\n",
       "    <tr>\n",
       "      <th>2199</th>\n",
       "      <td>1.447780</td>\n",
       "      <td>-1.072056</td>\n",
       "      <td>-0.358338</td>\n",
       "      <td>-0.397577</td>\n",
       "      <td>-0.497907</td>\n",
       "      <td>0.401005</td>\n",
       "      <td>0.681850</td>\n",
       "      <td>coffee</td>\n",
       "    </tr>\n",
       "  </tbody>\n",
       "</table>\n",
       "<p>2200 rows × 8 columns</p>\n",
       "</div>"
      ],
      "text/plain": [
       "             N         P         K  temperature  humidity        ph  rainfall  \\\n",
       "0     1.068554 -0.344472 -0.101664    -0.935374  0.472559  0.043292  1.809949   \n",
       "1     0.933117  0.140584 -0.141153    -0.759473  0.396961  0.734706  2.241548   \n",
       "2     0.255928  0.049636 -0.081920    -0.515781  0.486843  1.771108  2.920402   \n",
       "3     0.635154 -0.556684 -0.160897     0.172768  0.389717  0.660158  2.536471   \n",
       "4     0.743504 -0.344472 -0.121409    -1.083401  0.454688  1.497527  2.897714   \n",
       "...        ...       ...       ...          ...       ...       ...       ...   \n",
       "2195  1.529043 -0.587000 -0.318850     0.228762 -0.227657  0.401303  1.352129   \n",
       "2196  1.312342 -1.163004 -0.417571     0.355639 -0.666796 -0.494300  0.445081   \n",
       "2197  1.827006 -0.617316 -0.358338    -0.293152 -0.191192 -0.138089  1.271129   \n",
       "2198  1.799918 -0.647632 -0.279362     0.129583 -0.869320  0.373819  0.431447   \n",
       "2199  1.447780 -1.072056 -0.358338    -0.397577 -0.497907  0.401005  0.681850   \n",
       "\n",
       "       label  \n",
       "0       rice  \n",
       "1       rice  \n",
       "2       rice  \n",
       "3       rice  \n",
       "4       rice  \n",
       "...      ...  \n",
       "2195  coffee  \n",
       "2196  coffee  \n",
       "2197  coffee  \n",
       "2198  coffee  \n",
       "2199  coffee  \n",
       "\n",
       "[2200 rows x 8 columns]"
      ]
     },
     "execution_count": 5,
     "metadata": {},
     "output_type": "execute_result"
    }
   ],
   "source": [
    "df"
   ]
  },
  {
   "cell_type": "code",
   "execution_count": 6,
   "metadata": {},
   "outputs": [],
   "source": [
    "df_x = df.drop('label',1)\n",
    "df_y = df['label']"
   ]
  },
  {
   "cell_type": "code",
   "execution_count": 7,
   "metadata": {},
   "outputs": [
    {
     "data": {
      "text/html": [
       "<div>\n",
       "<style scoped>\n",
       "    .dataframe tbody tr th:only-of-type {\n",
       "        vertical-align: middle;\n",
       "    }\n",
       "\n",
       "    .dataframe tbody tr th {\n",
       "        vertical-align: top;\n",
       "    }\n",
       "\n",
       "    .dataframe thead th {\n",
       "        text-align: right;\n",
       "    }\n",
       "</style>\n",
       "<table border=\"1\" class=\"dataframe\">\n",
       "  <thead>\n",
       "    <tr style=\"text-align: right;\">\n",
       "      <th></th>\n",
       "      <th>N</th>\n",
       "      <th>P</th>\n",
       "      <th>K</th>\n",
       "      <th>temperature</th>\n",
       "      <th>humidity</th>\n",
       "      <th>ph</th>\n",
       "      <th>rainfall</th>\n",
       "    </tr>\n",
       "  </thead>\n",
       "  <tbody>\n",
       "    <tr>\n",
       "      <th>0</th>\n",
       "      <td>1.068554</td>\n",
       "      <td>-0.344472</td>\n",
       "      <td>-0.101664</td>\n",
       "      <td>-0.935374</td>\n",
       "      <td>0.472559</td>\n",
       "      <td>0.043292</td>\n",
       "      <td>1.809949</td>\n",
       "    </tr>\n",
       "    <tr>\n",
       "      <th>1</th>\n",
       "      <td>0.933117</td>\n",
       "      <td>0.140584</td>\n",
       "      <td>-0.141153</td>\n",
       "      <td>-0.759473</td>\n",
       "      <td>0.396961</td>\n",
       "      <td>0.734706</td>\n",
       "      <td>2.241548</td>\n",
       "    </tr>\n",
       "    <tr>\n",
       "      <th>2</th>\n",
       "      <td>0.255928</td>\n",
       "      <td>0.049636</td>\n",
       "      <td>-0.081920</td>\n",
       "      <td>-0.515781</td>\n",
       "      <td>0.486843</td>\n",
       "      <td>1.771108</td>\n",
       "      <td>2.920402</td>\n",
       "    </tr>\n",
       "    <tr>\n",
       "      <th>3</th>\n",
       "      <td>0.635154</td>\n",
       "      <td>-0.556684</td>\n",
       "      <td>-0.160897</td>\n",
       "      <td>0.172768</td>\n",
       "      <td>0.389717</td>\n",
       "      <td>0.660158</td>\n",
       "      <td>2.536471</td>\n",
       "    </tr>\n",
       "    <tr>\n",
       "      <th>4</th>\n",
       "      <td>0.743504</td>\n",
       "      <td>-0.344472</td>\n",
       "      <td>-0.121409</td>\n",
       "      <td>-1.083401</td>\n",
       "      <td>0.454688</td>\n",
       "      <td>1.497527</td>\n",
       "      <td>2.897714</td>\n",
       "    </tr>\n",
       "  </tbody>\n",
       "</table>\n",
       "</div>"
      ],
      "text/plain": [
       "          N         P         K  temperature  humidity        ph  rainfall\n",
       "0  1.068554 -0.344472 -0.101664    -0.935374  0.472559  0.043292  1.809949\n",
       "1  0.933117  0.140584 -0.141153    -0.759473  0.396961  0.734706  2.241548\n",
       "2  0.255928  0.049636 -0.081920    -0.515781  0.486843  1.771108  2.920402\n",
       "3  0.635154 -0.556684 -0.160897     0.172768  0.389717  0.660158  2.536471\n",
       "4  0.743504 -0.344472 -0.121409    -1.083401  0.454688  1.497527  2.897714"
      ]
     },
     "execution_count": 7,
     "metadata": {},
     "output_type": "execute_result"
    }
   ],
   "source": [
    "df_x.head()"
   ]
  },
  {
   "cell_type": "code",
   "execution_count": 8,
   "metadata": {},
   "outputs": [],
   "source": [
    "scaler = StandardScaler()"
   ]
  },
  {
   "cell_type": "code",
   "execution_count": 9,
   "metadata": {},
   "outputs": [],
   "source": [
    "# scaled = scaler.fit_transform(df[['N']])\n",
    "# df_x['N'] = scaled"
   ]
  },
  {
   "cell_type": "code",
   "execution_count": 10,
   "metadata": {},
   "outputs": [],
   "source": [
    "# scaled = scaler.fit_transform(df[['P']])\n",
    "# df_x['P'] = scaled\n",
    "\n",
    "# scaled = scaler.fit_transform(df[['K']])\n",
    "# df_x['K'] = scaled\n",
    "\n",
    "# scaled = scaler.fit_transform(df[['temperature']])\n",
    "# df_x['temperature'] = scaled\n",
    "\n",
    "# scaled = scaler.fit_transform(df[['humidity']])\n",
    "# df_x['humidity'] = scaled\n",
    "\n",
    "# scaled = scaler.fit_transform(df[['rainfall']])\n",
    "# df_x['rainfall'] = scaled\n",
    "\n",
    "# scaled = scaler.fit_transform(df[['ph']])\n",
    "# df_x['ph'] = scaled\n"
   ]
  },
  {
   "cell_type": "code",
   "execution_count": 11,
   "metadata": {},
   "outputs": [],
   "source": [
    "df_x_train,df_x_test,df_y_train,df_y_test = train_test_split(df_x,df_y,test_size = 0.3, random_state = 42,stratify = df_y)"
   ]
  },
  {
   "cell_type": "code",
   "execution_count": 30,
   "metadata": {},
   "outputs": [
    {
     "data": {
      "text/plain": [
       "381     kidneybeans\n",
       "552       mothbeans\n",
       "768       blackgram\n",
       "2081           jute\n",
       "2055           jute\n",
       "           ...     \n",
       "471      pigeonpeas\n",
       "1726         papaya\n",
       "1584          apple\n",
       "1350     watermelon\n",
       "1784         papaya\n",
       "Name: label, Length: 660, dtype: object"
      ]
     },
     "execution_count": 30,
     "metadata": {},
     "output_type": "execute_result"
    }
   ],
   "source": [
    "df_y_test"
   ]
  },
  {
   "cell_type": "code",
   "execution_count": 47,
   "metadata": {},
   "outputs": [],
   "source": [
    "file_name = (\n",
    "    \"df_y_test.csv\"\n",
    ")\n",
    "df_y_test.to_csv(file_name,index = False)\n"
   ]
  },
  {
   "cell_type": "code",
   "execution_count": null,
   "metadata": {},
   "outputs": [],
   "source": [
    "file_name = (\n",
    "    \"df_test.csv\"\n",
    ")\n",
    "df_x_test.to_csv(file_name,index = False)"
   ]
  },
  {
   "cell_type": "code",
   "execution_count": 12,
   "metadata": {},
   "outputs": [],
   "source": [
    "params_xgb = {\n",
    "    'booster': ['gbtree'],\n",
    "    'normalize_type': ['tree'],\n",
    "    'objective': ['multi:softprob'],\n",
    "    'max_depth':[3,4,5,6],\n",
    "    'num_class' : [22]    \n",
    "}"
   ]
  },
  {
   "cell_type": "raw",
   "metadata": {},
   "source": [
    "process_type"
   ]
  },
  {
   "cell_type": "code",
   "execution_count": 13,
   "metadata": {
    "scrolled": true
   },
   "outputs": [],
   "source": [
    "# gridsearch = GridSearchCV(xgb.XGBClassifier(),params_xgb,cv=5,verbose = 1,n_jobs = -1)\n",
    "# model = gridsearch.fit(df_x_train,df_y_train)"
   ]
  },
  {
   "cell_type": "code",
   "execution_count": 14,
   "metadata": {
    "collapsed": true,
    "jupyter": {
     "outputs_hidden": true
    },
    "scrolled": true
   },
   "outputs": [
    {
     "name": "stdout",
     "output_type": "stream",
     "text": [
      "Fitting 5 folds for each of 4 candidates, totalling 20 fits\n"
     ]
    },
    {
     "name": "stderr",
     "output_type": "stream",
     "text": [
      "/opt/conda/lib/python3.7/site-packages/sklearn/model_selection/_search.py:281: UserWarning: The total space of parameters 4 is smaller than n_iter=10. Running 4 iterations. For exhaustive searches, use GridSearchCV.\n",
      "  % (grid_size, self.n_iter, grid_size), UserWarning)\n",
      "[Parallel(n_jobs=-1)]: Using backend LokyBackend with 2 concurrent workers.\n",
      "[Parallel(n_jobs=-1)]: Done  20 out of  20 | elapsed:  3.4min finished\n",
      "/opt/conda/lib/python3.7/site-packages/xgboost/sklearn.py:892: UserWarning: The use of label encoder in XGBClassifier is deprecated and will be removed in a future release. To remove this warning, do the following: 1) Pass option use_label_encoder=False when constructing XGBClassifier object; and 2) Encode your labels (y) as integers starting with 0, i.e. 0, 1, 2, ..., [num_class - 1].\n",
      "  warnings.warn(label_encoder_deprecation_msg, UserWarning)\n"
     ]
    },
    {
     "name": "stdout",
     "output_type": "stream",
     "text": [
      "[13:54:25] WARNING: ../src/learner.cc:541: \n",
      "Parameters: { normalize_type } might not be used.\n",
      "\n",
      "  This may not be accurate due to some parameters are only used in language bindings but\n",
      "  passed down to XGBoost core.  Or some parameters are not used but slip through this\n",
      "  verification. Please open an issue if you find above cases.\n",
      "\n",
      "\n",
      "[13:54:25] WARNING: ../src/learner.cc:1061: Starting in XGBoost 1.3.0, the default evaluation metric used with the objective 'multi:softprob' was changed from 'merror' to 'mlogloss'. Explicitly set eval_metric if you'd like to restore the old behavior.\n"
     ]
    }
   ],
   "source": [
    "random_search = RandomizedSearchCV(xgb.XGBClassifier(),params_xgb,cv = 5,scoring = 'f1_macro',n_jobs = -1,verbose = 1)\n",
    "model = random_search.fit(df_x_train,df_y_train)"
   ]
  },
  {
   "cell_type": "code",
   "execution_count": 15,
   "metadata": {},
   "outputs": [
    {
     "data": {
      "text/plain": [
       "sklearn.model_selection._search.RandomizedSearchCV"
      ]
     },
     "execution_count": 15,
     "metadata": {},
     "output_type": "execute_result"
    }
   ],
   "source": [
    "type(model)"
   ]
  },
  {
   "cell_type": "code",
   "execution_count": 16,
   "metadata": {},
   "outputs": [],
   "source": [
    "params_new = model.best_params_"
   ]
  },
  {
   "cell_type": "code",
   "execution_count": 17,
   "metadata": {},
   "outputs": [
    {
     "data": {
      "text/plain": [
       "{'objective': 'multi:softprob',\n",
       " 'num_class': 22,\n",
       " 'normalize_type': 'tree',\n",
       " 'max_depth': 5,\n",
       " 'booster': 'gbtree'}"
      ]
     },
     "execution_count": 17,
     "metadata": {},
     "output_type": "execute_result"
    }
   ],
   "source": [
    "params_new"
   ]
  },
  {
   "cell_type": "code",
   "execution_count": 18,
   "metadata": {
    "scrolled": true
   },
   "outputs": [
    {
     "name": "stderr",
     "output_type": "stream",
     "text": [
      "/opt/conda/lib/python3.7/site-packages/xgboost/core.py:419: FutureWarning: Pass `objective` as keyword args.  Passing these as positional arguments will be considered as error in future releases.\n",
      "  format(\", \".join(args_msg)), FutureWarning)\n"
     ]
    },
    {
     "name": "stdout",
     "output_type": "stream",
     "text": [
      "[13:54:26] WARNING: ../src/learner.cc:1061: Starting in XGBoost 1.3.0, the default evaluation metric used with the objective 'multi:softprob' was changed from 'merror' to 'mlogloss'. Explicitly set eval_metric if you'd like to restore the old behavior.\n"
     ]
    },
    {
     "data": {
      "text/plain": [
       "XGBClassifier(base_score=0.5, booster='gbtree', colsample_bylevel=1,\n",
       "              colsample_bynode=1, colsample_bytree=1, gamma=0, gpu_id=-1,\n",
       "              importance_type='gain', interaction_constraints='',\n",
       "              learning_rate=0.300000012, max_delta_step=0, max_depth=6,\n",
       "              min_child_weight=1, missing=nan, monotone_constraints='()',\n",
       "              n_estimators=100, n_jobs=2, num_parallel_tree=1,\n",
       "              objective='multi:softprob', random_state=42, reg_alpha=0,\n",
       "              reg_lambda=1, scale_pos_weight=None, seed=42, subsample=1,\n",
       "              tree_method='exact', use_label_encoder=True,\n",
       "              validate_parameters=1, verbosity=None)"
      ]
     },
     "execution_count": 18,
     "metadata": {},
     "output_type": "execute_result"
    }
   ],
   "source": [
    "model1 = xgb.XGBClassifier(params_new , seed = 42)\n",
    "model1.fit(df_x_train,df_y_train)"
   ]
  },
  {
   "cell_type": "code",
   "execution_count": 19,
   "metadata": {
    "collapsed": true,
    "jupyter": {
     "outputs_hidden": true
    }
   },
   "outputs": [
    {
     "data": {
      "text/plain": [
       "array(['kidneybeans', 'mothbeans', 'blackgram', 'jute', 'jute',\n",
       "       'kidneybeans', 'papaya', 'mango', 'coffee', 'maize', 'rice',\n",
       "       'papaya', 'coconut', 'orange', 'mango', 'banana', 'lentil',\n",
       "       'chickpea', 'blackgram', 'cotton', 'mango', 'muskmelon', 'banana',\n",
       "       'kidneybeans', 'pigeonpeas', 'papaya', 'jute', 'mango',\n",
       "       'kidneybeans', 'grapes', 'mothbeans', 'jute', 'mungbean',\n",
       "       'pomegranate', 'mothbeans', 'rice', 'kidneybeans', 'cotton',\n",
       "       'blackgram', 'grapes', 'mothbeans', 'apple', 'coconut',\n",
       "       'watermelon', 'cotton', 'kidneybeans', 'maize', 'chickpea',\n",
       "       'orange', 'cotton', 'mango', 'kidneybeans', 'muskmelon', 'lentil',\n",
       "       'apple', 'banana', 'apple', 'maize', 'banana', 'coconut', 'lentil',\n",
       "       'chickpea', 'banana', 'pigeonpeas', 'coconut', 'rice',\n",
       "       'pigeonpeas', 'papaya', 'coffee', 'rice', 'orange', 'watermelon',\n",
       "       'coffee', 'banana', 'chickpea', 'jute', 'muskmelon', 'pigeonpeas',\n",
       "       'maize', 'blackgram', 'grapes', 'cotton', 'grapes', 'orange',\n",
       "       'chickpea', 'blackgram', 'pigeonpeas', 'rice', 'coffee', 'coconut',\n",
       "       'mothbeans', 'watermelon', 'grapes', 'grapes', 'banana', 'grapes',\n",
       "       'apple', 'pomegranate', 'mungbean', 'papaya', 'jute', 'banana',\n",
       "       'coffee', 'muskmelon', 'pigeonpeas', 'chickpea', 'grapes',\n",
       "       'watermelon', 'pomegranate', 'papaya', 'orange', 'mothbeans',\n",
       "       'pomegranate', 'grapes', 'jute', 'watermelon', 'mango', 'rice',\n",
       "       'cotton', 'mothbeans', 'mungbean', 'blackgram', 'orange', 'grapes',\n",
       "       'muskmelon', 'mango', 'coconut', 'cotton', 'mothbeans', 'chickpea',\n",
       "       'pomegranate', 'pomegranate', 'orange', 'kidneybeans',\n",
       "       'kidneybeans', 'jute', 'mungbean', 'watermelon', 'pigeonpeas',\n",
       "       'apple', 'maize', 'mango', 'orange', 'coffee', 'papaya', 'coffee',\n",
       "       'jute', 'grapes', 'mango', 'orange', 'jute', 'kidneybeans',\n",
       "       'muskmelon', 'pomegranate', 'kidneybeans', 'lentil', 'lentil',\n",
       "       'papaya', 'pomegranate', 'kidneybeans', 'maize', 'lentil',\n",
       "       'blackgram', 'coconut', 'orange', 'muskmelon', 'coffee',\n",
       "       'kidneybeans', 'lentil', 'watermelon', 'rice', 'chickpea',\n",
       "       'grapes', 'mothbeans', 'apple', 'watermelon', 'watermelon',\n",
       "       'pigeonpeas', 'mungbean', 'jute', 'coffee', 'papaya', 'maize',\n",
       "       'jute', 'jute', 'banana', 'mothbeans', 'chickpea', 'maize',\n",
       "       'coconut', 'blackgram', 'pigeonpeas', 'coffee', 'papaya', 'mango',\n",
       "       'watermelon', 'muskmelon', 'muskmelon', 'watermelon', 'muskmelon',\n",
       "       'apple', 'blackgram', 'orange', 'mothbeans', 'watermelon',\n",
       "       'pomegranate', 'coconut', 'rice', 'muskmelon', 'maize',\n",
       "       'kidneybeans', 'muskmelon', 'mungbean', 'apple', 'maize', 'mango',\n",
       "       'kidneybeans', 'pomegranate', 'mothbeans', 'apple', 'grapes',\n",
       "       'watermelon', 'coconut', 'cotton', 'mungbean', 'lentil', 'lentil',\n",
       "       'cotton', 'pigeonpeas', 'maize', 'grapes', 'watermelon',\n",
       "       'mungbean', 'mungbean', 'pigeonpeas', 'rice', 'rice', 'maize',\n",
       "       'pomegranate', 'blackgram', 'banana', 'mango', 'chickpea',\n",
       "       'chickpea', 'pigeonpeas', 'mango', 'papaya', 'banana',\n",
       "       'pomegranate', 'chickpea', 'coconut', 'coconut', 'coconut',\n",
       "       'apple', 'mungbean', 'blackgram', 'banana', 'maize', 'watermelon',\n",
       "       'orange', 'watermelon', 'pomegranate', 'mango', 'blackgram',\n",
       "       'muskmelon', 'maize', 'apple', 'muskmelon', 'apple', 'coffee',\n",
       "       'chickpea', 'coconut', 'orange', 'kidneybeans', 'blackgram',\n",
       "       'cotton', 'mothbeans', 'grapes', 'apple', 'muskmelon', 'mango',\n",
       "       'pomegranate', 'orange', 'mothbeans', 'rice', 'jute', 'blackgram',\n",
       "       'banana', 'coconut', 'maize', 'chickpea', 'rice', 'blackgram',\n",
       "       'cotton', 'cotton', 'mothbeans', 'coffee', 'mungbean',\n",
       "       'pomegranate', 'blackgram', 'orange', 'rice', 'jute', 'blackgram',\n",
       "       'orange', 'blackgram', 'papaya', 'jute', 'lentil', 'coconut',\n",
       "       'coffee', 'apple', 'cotton', 'chickpea', 'mothbeans', 'rice',\n",
       "       'cotton', 'blackgram', 'blackgram', 'kidneybeans', 'banana',\n",
       "       'grapes', 'cotton', 'lentil', 'maize', 'pomegranate', 'coconut',\n",
       "       'coffee', 'chickpea', 'banana', 'mothbeans', 'pigeonpeas',\n",
       "       'watermelon', 'orange', 'mungbean', 'apple', 'mango', 'watermelon',\n",
       "       'coffee', 'banana', 'cotton', 'kidneybeans', 'watermelon',\n",
       "       'pigeonpeas', 'orange', 'mungbean', 'lentil', 'grapes', 'apple',\n",
       "       'apple', 'rice', 'rice', 'banana', 'cotton', 'orange', 'mothbeans',\n",
       "       'rice', 'mango', 'cotton', 'apple', 'lentil', 'mothbeans',\n",
       "       'muskmelon', 'mothbeans', 'grapes', 'banana', 'pigeonpeas',\n",
       "       'mungbean', 'maize', 'coffee', 'pomegranate', 'grapes', 'lentil',\n",
       "       'blackgram', 'mothbeans', 'coffee', 'coconut', 'mango',\n",
       "       'pigeonpeas', 'lentil', 'banana', 'mungbean', 'jute', 'lentil',\n",
       "       'coffee', 'lentil', 'mothbeans', 'jute', 'maize', 'blackgram',\n",
       "       'muskmelon', 'mungbean', 'pomegranate', 'watermelon', 'muskmelon',\n",
       "       'kidneybeans', 'pomegranate', 'apple', 'mothbeans', 'apple',\n",
       "       'coffee', 'cotton', 'mungbean', 'kidneybeans', 'kidneybeans',\n",
       "       'mango', 'watermelon', 'mango', 'kidneybeans', 'papaya',\n",
       "       'muskmelon', 'banana', 'chickpea', 'chickpea', 'coconut', 'mango',\n",
       "       'pomegranate', 'mothbeans', 'rice', 'mungbean', 'muskmelon',\n",
       "       'pomegranate', 'mothbeans', 'blackgram', 'papaya', 'kidneybeans',\n",
       "       'coconut', 'mothbeans', 'coconut', 'banana', 'muskmelon', 'papaya',\n",
       "       'lentil', 'rice', 'cotton', 'chickpea', 'mothbeans', 'mango',\n",
       "       'kidneybeans', 'blackgram', 'orange', 'coconut', 'mungbean',\n",
       "       'lentil', 'pigeonpeas', 'jute', 'cotton', 'pomegranate', 'grapes',\n",
       "       'mungbean', 'grapes', 'pigeonpeas', 'rice', 'mothbeans', 'cotton',\n",
       "       'mango', 'mango', 'chickpea', 'banana', 'cotton', 'lentil', 'jute',\n",
       "       'maize', 'papaya', 'pomegranate', 'mango', 'pigeonpeas', 'banana',\n",
       "       'jute', 'chickpea', 'mungbean', 'lentil', 'blackgram',\n",
       "       'watermelon', 'cotton', 'pigeonpeas', 'papaya', 'chickpea',\n",
       "       'orange', 'pigeonpeas', 'apple', 'cotton', 'maize', 'chickpea',\n",
       "       'maize', 'chickpea', 'chickpea', 'coffee', 'chickpea', 'chickpea',\n",
       "       'mothbeans', 'muskmelon', 'lentil', 'jute', 'lentil', 'papaya',\n",
       "       'blackgram', 'watermelon', 'coconut', 'orange', 'banana', 'papaya',\n",
       "       'papaya', 'pomegranate', 'pomegranate', 'jute', 'watermelon',\n",
       "       'apple', 'coffee', 'papaya', 'mango', 'muskmelon', 'maize',\n",
       "       'coffee', 'rice', 'lentil', 'coffee', 'coffee', 'jute', 'coffee',\n",
       "       'papaya', 'blackgram', 'mungbean', 'coconut', 'banana',\n",
       "       'blackgram', 'pigeonpeas', 'cotton', 'banana', 'mungbean',\n",
       "       'orange', 'maize', 'muskmelon', 'apple', 'rice', 'coconut',\n",
       "       'pomegranate', 'jute', 'mungbean', 'jute', 'kidneybeans', 'maize',\n",
       "       'coconut', 'jute', 'pomegranate', 'coffee', 'lentil', 'apple',\n",
       "       'kidneybeans', 'maize', 'coconut', 'maize', 'pomegranate', 'rice',\n",
       "       'jute', 'kidneybeans', 'rice', 'papaya', 'banana', 'maize', 'rice',\n",
       "       'coffee', 'grapes', 'orange', 'mungbean', 'papaya', 'chickpea',\n",
       "       'papaya', 'apple', 'grapes', 'lentil', 'cotton', 'mungbean',\n",
       "       'kidneybeans', 'mango', 'muskmelon', 'pigeonpeas', 'kidneybeans',\n",
       "       'coconut', 'pomegranate', 'apple', 'mungbean', 'pigeonpeas',\n",
       "       'jute', 'muskmelon', 'mango', 'apple', 'jute', 'watermelon',\n",
       "       'coffee', 'pigeonpeas', 'pigeonpeas', 'mungbean', 'grapes',\n",
       "       'chickpea', 'pigeonpeas', 'banana', 'orange', 'watermelon',\n",
       "       'blackgram', 'maize', 'watermelon', 'muskmelon', 'jute', 'maize',\n",
       "       'lentil', 'orange', 'mothbeans', 'apple', 'apple', 'mungbean',\n",
       "       'mango', 'cotton', 'orange', 'blackgram', 'pomegranate', 'papaya',\n",
       "       'grapes', 'kidneybeans', 'papaya', 'coconut', 'watermelon',\n",
       "       'mungbean', 'rice', 'mothbeans', 'chickpea', 'rice', 'papaya',\n",
       "       'grapes', 'muskmelon', 'coconut', 'blackgram', 'cotton',\n",
       "       'mothbeans', 'grapes', 'rice', 'coffee', 'orange', 'cotton',\n",
       "       'rice', 'banana', 'grapes', 'banana', 'muskmelon', 'orange',\n",
       "       'grapes', 'maize', 'coffee', 'muskmelon', 'lentil', 'rice',\n",
       "       'grapes', 'watermelon', 'orange', 'mango', 'pigeonpeas', 'papaya',\n",
       "       'apple', 'watermelon', 'papaya'], dtype=object)"
      ]
     },
     "execution_count": 19,
     "metadata": {},
     "output_type": "execute_result"
    }
   ],
   "source": [
    "model1.predict(df_x_test)"
   ]
  },
  {
   "cell_type": "code",
   "execution_count": 20,
   "metadata": {
    "collapsed": true,
    "jupyter": {
     "outputs_hidden": true
    }
   },
   "outputs": [
    {
     "data": {
      "text/plain": [
       "array(['kidneybeans', 'mothbeans', 'blackgram', 'jute', 'jute',\n",
       "       'kidneybeans', 'papaya', 'mango', 'coffee', 'maize', 'rice',\n",
       "       'papaya', 'coconut', 'orange', 'mango', 'banana', 'lentil',\n",
       "       'chickpea', 'blackgram', 'cotton', 'mango', 'muskmelon', 'banana',\n",
       "       'kidneybeans', 'pigeonpeas', 'papaya', 'jute', 'mango',\n",
       "       'kidneybeans', 'grapes', 'mothbeans', 'jute', 'mungbean',\n",
       "       'pomegranate', 'mothbeans', 'rice', 'kidneybeans', 'cotton',\n",
       "       'blackgram', 'grapes', 'mothbeans', 'apple', 'coconut',\n",
       "       'watermelon', 'cotton', 'kidneybeans', 'maize', 'chickpea',\n",
       "       'orange', 'cotton', 'mango', 'kidneybeans', 'muskmelon', 'lentil',\n",
       "       'apple', 'banana', 'apple', 'maize', 'banana', 'coconut', 'lentil',\n",
       "       'chickpea', 'banana', 'pigeonpeas', 'coconut', 'rice',\n",
       "       'pigeonpeas', 'papaya', 'coffee', 'rice', 'orange', 'watermelon',\n",
       "       'coffee', 'banana', 'chickpea', 'jute', 'muskmelon', 'pigeonpeas',\n",
       "       'maize', 'blackgram', 'grapes', 'cotton', 'grapes', 'orange',\n",
       "       'chickpea', 'blackgram', 'pigeonpeas', 'rice', 'coffee', 'coconut',\n",
       "       'mothbeans', 'watermelon', 'grapes', 'grapes', 'banana', 'grapes',\n",
       "       'apple', 'pomegranate', 'mungbean', 'papaya', 'jute', 'banana',\n",
       "       'coffee', 'muskmelon', 'pigeonpeas', 'chickpea', 'grapes',\n",
       "       'watermelon', 'pomegranate', 'papaya', 'orange', 'mothbeans',\n",
       "       'pomegranate', 'grapes', 'jute', 'watermelon', 'mango', 'rice',\n",
       "       'cotton', 'mothbeans', 'mungbean', 'blackgram', 'orange', 'grapes',\n",
       "       'muskmelon', 'mango', 'coconut', 'cotton', 'mothbeans', 'chickpea',\n",
       "       'pomegranate', 'pomegranate', 'orange', 'kidneybeans',\n",
       "       'kidneybeans', 'jute', 'mungbean', 'watermelon', 'pigeonpeas',\n",
       "       'apple', 'maize', 'mango', 'orange', 'coffee', 'papaya', 'coffee',\n",
       "       'jute', 'grapes', 'mango', 'orange', 'jute', 'kidneybeans',\n",
       "       'muskmelon', 'pomegranate', 'kidneybeans', 'lentil', 'lentil',\n",
       "       'papaya', 'pomegranate', 'kidneybeans', 'maize', 'lentil',\n",
       "       'blackgram', 'coconut', 'orange', 'muskmelon', 'coffee',\n",
       "       'kidneybeans', 'lentil', 'watermelon', 'rice', 'chickpea',\n",
       "       'grapes', 'mothbeans', 'apple', 'watermelon', 'watermelon',\n",
       "       'pigeonpeas', 'mungbean', 'jute', 'coffee', 'papaya', 'maize',\n",
       "       'jute', 'jute', 'banana', 'mothbeans', 'chickpea', 'maize',\n",
       "       'coconut', 'blackgram', 'pigeonpeas', 'coffee', 'papaya', 'mango',\n",
       "       'watermelon', 'muskmelon', 'muskmelon', 'watermelon', 'muskmelon',\n",
       "       'apple', 'blackgram', 'orange', 'mothbeans', 'watermelon',\n",
       "       'pomegranate', 'coconut', 'rice', 'muskmelon', 'maize',\n",
       "       'kidneybeans', 'muskmelon', 'mungbean', 'apple', 'maize', 'mango',\n",
       "       'kidneybeans', 'pomegranate', 'mothbeans', 'apple', 'grapes',\n",
       "       'watermelon', 'coconut', 'cotton', 'mungbean', 'lentil', 'lentil',\n",
       "       'cotton', 'pigeonpeas', 'maize', 'grapes', 'watermelon',\n",
       "       'mungbean', 'mungbean', 'pigeonpeas', 'rice', 'rice', 'maize',\n",
       "       'pomegranate', 'blackgram', 'banana', 'mango', 'chickpea',\n",
       "       'chickpea', 'pigeonpeas', 'mango', 'papaya', 'banana',\n",
       "       'pomegranate', 'chickpea', 'coconut', 'coconut', 'coconut',\n",
       "       'apple', 'mungbean', 'blackgram', 'banana', 'maize', 'watermelon',\n",
       "       'orange', 'watermelon', 'pomegranate', 'mango', 'blackgram',\n",
       "       'muskmelon', 'maize', 'apple', 'muskmelon', 'apple', 'coffee',\n",
       "       'chickpea', 'coconut', 'orange', 'kidneybeans', 'blackgram',\n",
       "       'cotton', 'mothbeans', 'grapes', 'apple', 'muskmelon', 'mango',\n",
       "       'pomegranate', 'orange', 'mothbeans', 'rice', 'jute', 'blackgram',\n",
       "       'banana', 'coconut', 'maize', 'chickpea', 'rice', 'blackgram',\n",
       "       'cotton', 'cotton', 'mothbeans', 'coffee', 'mungbean',\n",
       "       'pomegranate', 'blackgram', 'orange', 'rice', 'jute', 'blackgram',\n",
       "       'orange', 'blackgram', 'papaya', 'jute', 'lentil', 'coconut',\n",
       "       'coffee', 'apple', 'cotton', 'chickpea', 'mothbeans', 'rice',\n",
       "       'cotton', 'blackgram', 'blackgram', 'kidneybeans', 'banana',\n",
       "       'grapes', 'cotton', 'lentil', 'maize', 'pomegranate', 'coconut',\n",
       "       'coffee', 'chickpea', 'banana', 'mothbeans', 'pigeonpeas',\n",
       "       'watermelon', 'orange', 'mungbean', 'apple', 'mango', 'watermelon',\n",
       "       'coffee', 'banana', 'cotton', 'kidneybeans', 'watermelon',\n",
       "       'pigeonpeas', 'orange', 'mungbean', 'lentil', 'grapes', 'apple',\n",
       "       'apple', 'rice', 'rice', 'banana', 'cotton', 'orange', 'mothbeans',\n",
       "       'rice', 'mango', 'cotton', 'apple', 'lentil', 'mothbeans',\n",
       "       'muskmelon', 'mothbeans', 'grapes', 'banana', 'pigeonpeas',\n",
       "       'mungbean', 'maize', 'coffee', 'pomegranate', 'grapes', 'lentil',\n",
       "       'blackgram', 'mothbeans', 'coffee', 'coconut', 'mango',\n",
       "       'pigeonpeas', 'lentil', 'banana', 'mungbean', 'jute', 'lentil',\n",
       "       'coffee', 'lentil', 'mothbeans', 'jute', 'maize', 'blackgram',\n",
       "       'muskmelon', 'mungbean', 'pomegranate', 'watermelon', 'muskmelon',\n",
       "       'kidneybeans', 'pomegranate', 'apple', 'mothbeans', 'apple',\n",
       "       'coffee', 'cotton', 'mungbean', 'kidneybeans', 'kidneybeans',\n",
       "       'mango', 'watermelon', 'mango', 'kidneybeans', 'papaya',\n",
       "       'muskmelon', 'banana', 'chickpea', 'chickpea', 'coconut', 'mango',\n",
       "       'pomegranate', 'mothbeans', 'rice', 'mungbean', 'muskmelon',\n",
       "       'pomegranate', 'mothbeans', 'blackgram', 'papaya', 'kidneybeans',\n",
       "       'coconut', 'mothbeans', 'coconut', 'banana', 'muskmelon', 'papaya',\n",
       "       'lentil', 'rice', 'cotton', 'chickpea', 'mothbeans', 'mango',\n",
       "       'kidneybeans', 'blackgram', 'orange', 'coconut', 'mungbean',\n",
       "       'lentil', 'pigeonpeas', 'jute', 'cotton', 'pomegranate', 'grapes',\n",
       "       'mungbean', 'grapes', 'pigeonpeas', 'rice', 'mothbeans', 'cotton',\n",
       "       'mango', 'mango', 'chickpea', 'banana', 'cotton', 'lentil', 'jute',\n",
       "       'maize', 'papaya', 'pomegranate', 'mango', 'pigeonpeas', 'banana',\n",
       "       'jute', 'chickpea', 'mungbean', 'lentil', 'blackgram',\n",
       "       'watermelon', 'cotton', 'pigeonpeas', 'papaya', 'chickpea',\n",
       "       'orange', 'pigeonpeas', 'apple', 'cotton', 'maize', 'chickpea',\n",
       "       'maize', 'chickpea', 'chickpea', 'coffee', 'chickpea', 'chickpea',\n",
       "       'mothbeans', 'muskmelon', 'lentil', 'jute', 'lentil', 'papaya',\n",
       "       'blackgram', 'watermelon', 'coconut', 'orange', 'banana', 'papaya',\n",
       "       'papaya', 'pomegranate', 'pomegranate', 'jute', 'watermelon',\n",
       "       'apple', 'coffee', 'papaya', 'mango', 'muskmelon', 'maize',\n",
       "       'coffee', 'rice', 'lentil', 'coffee', 'coffee', 'jute', 'coffee',\n",
       "       'papaya', 'blackgram', 'mungbean', 'coconut', 'banana',\n",
       "       'blackgram', 'pigeonpeas', 'cotton', 'banana', 'mungbean',\n",
       "       'orange', 'maize', 'muskmelon', 'apple', 'rice', 'coconut',\n",
       "       'pomegranate', 'jute', 'mungbean', 'jute', 'kidneybeans', 'maize',\n",
       "       'coconut', 'jute', 'pomegranate', 'coffee', 'lentil', 'apple',\n",
       "       'kidneybeans', 'maize', 'coconut', 'maize', 'pomegranate', 'rice',\n",
       "       'jute', 'kidneybeans', 'rice', 'papaya', 'banana', 'maize', 'rice',\n",
       "       'coffee', 'grapes', 'orange', 'mungbean', 'papaya', 'chickpea',\n",
       "       'papaya', 'apple', 'grapes', 'lentil', 'cotton', 'mungbean',\n",
       "       'kidneybeans', 'mango', 'muskmelon', 'pigeonpeas', 'kidneybeans',\n",
       "       'coconut', 'pomegranate', 'apple', 'mungbean', 'pigeonpeas',\n",
       "       'jute', 'muskmelon', 'mango', 'apple', 'jute', 'watermelon',\n",
       "       'coffee', 'pigeonpeas', 'pigeonpeas', 'mungbean', 'grapes',\n",
       "       'chickpea', 'pigeonpeas', 'banana', 'orange', 'watermelon',\n",
       "       'blackgram', 'maize', 'watermelon', 'muskmelon', 'jute', 'maize',\n",
       "       'lentil', 'orange', 'mothbeans', 'apple', 'apple', 'mungbean',\n",
       "       'mango', 'cotton', 'orange', 'blackgram', 'pomegranate', 'papaya',\n",
       "       'grapes', 'kidneybeans', 'papaya', 'coconut', 'watermelon',\n",
       "       'mungbean', 'rice', 'mothbeans', 'chickpea', 'rice', 'papaya',\n",
       "       'grapes', 'muskmelon', 'coconut', 'blackgram', 'cotton',\n",
       "       'mothbeans', 'grapes', 'rice', 'coffee', 'orange', 'cotton',\n",
       "       'rice', 'banana', 'grapes', 'banana', 'muskmelon', 'orange',\n",
       "       'grapes', 'maize', 'coffee', 'muskmelon', 'lentil', 'rice',\n",
       "       'grapes', 'watermelon', 'orange', 'mango', 'pigeonpeas', 'papaya',\n",
       "       'apple', 'watermelon', 'papaya'], dtype=object)"
      ]
     },
     "execution_count": 20,
     "metadata": {},
     "output_type": "execute_result"
    }
   ],
   "source": [
    "predictions = model.predict(df_x_test)\n",
    "predictions"
   ]
  },
  {
   "cell_type": "code",
   "execution_count": 48,
   "metadata": {},
   "outputs": [
    {
     "data": {
      "text/plain": [
       "numpy.ndarray"
      ]
     },
     "execution_count": 48,
     "metadata": {},
     "output_type": "execute_result"
    }
   ],
   "source": [
    "type(predictions)"
   ]
  },
  {
   "cell_type": "code",
   "execution_count": 49,
   "metadata": {},
   "outputs": [
    {
     "data": {
      "text/plain": [
       "pandas.core.series.Series"
      ]
     },
     "execution_count": 49,
     "metadata": {},
     "output_type": "execute_result"
    }
   ],
   "source": [
    "type(df_y_test)"
   ]
  },
  {
   "cell_type": "code",
   "execution_count": 21,
   "metadata": {},
   "outputs": [
    {
     "data": {
      "text/plain": [
       "0.9924242424242424"
      ]
     },
     "execution_count": 21,
     "metadata": {},
     "output_type": "execute_result"
    }
   ],
   "source": [
    "accuracy_score(df_y_test,predictions)"
   ]
  },
  {
   "cell_type": "code",
   "execution_count": 26,
   "metadata": {},
   "outputs": [
    {
     "data": {
      "text/plain": [
       "['latest-model']"
      ]
     },
     "execution_count": 26,
     "metadata": {},
     "output_type": "execute_result"
    }
   ],
   "source": [
    "import joblib\n",
    "from time import gmtime,strftime\n",
    "model_name = ('latest-model')\n",
    "joblib.dump(model1,model_name)\n",
    "# 'crop-xgb-model-'+ strftime(\"%Y-%m-%d-%H-%M-%S\",gmtime())"
   ]
  },
  {
   "cell_type": "code",
   "execution_count": 27,
   "metadata": {},
   "outputs": [],
   "source": [
    "#testing the loaded model\n",
    "m1 = joblib.load(model_name)"
   ]
  },
  {
   "cell_type": "raw",
   "metadata": {},
   "source": [
    "0.9924242424242424"
   ]
  }
 ],
 "metadata": {
  "instance_type": "ml.t3.medium",
  "kernelspec": {
   "display_name": "Python 3 (Data Science)",
   "language": "python",
   "name": "python3__SAGEMAKER_INTERNAL__arn:aws:sagemaker:us-east-2:429704687514:image/datascience-1.0"
  },
  "language_info": {
   "codemirror_mode": {
    "name": "ipython",
    "version": 3
   },
   "file_extension": ".py",
   "mimetype": "text/x-python",
   "name": "python",
   "nbconvert_exporter": "python",
   "pygments_lexer": "ipython3",
   "version": "3.7.10"
  }
 },
 "nbformat": 4,
 "nbformat_minor": 5
}
