{
 "cells": [
  {
   "cell_type": "code",
   "execution_count": 1,
   "id": "94ddb743",
   "metadata": {},
   "outputs": [],
   "source": [
    "import pandas as pd\n",
    "import numpy as np\n",
    "import xgboost as xgb\n",
    "\n",
    "import seaborn as sns\n",
    "\n",
    "from sklearn.preprocessing import StandardScaler\n",
    "from sklearn.model_selection import train_test_split\n",
    "from sklearn.model_selection import GridSearchCV, RandomizedSearchCV\n",
    "\n",
    "\n",
    "from sklearn.metrics import accuracy_score"
   ]
  },
  {
   "cell_type": "code",
   "execution_count": 2,
   "id": "c64be681",
   "metadata": {},
   "outputs": [],
   "source": [
    "df = pd.read_csv(\"Crop_recommendation.CSV\")\n"
   ]
  },
  {
   "cell_type": "code",
   "execution_count": 3,
   "id": "b60324a8",
   "metadata": {
    "scrolled": true
   },
   "outputs": [
    {
     "data": {
      "text/html": [
       "<div>\n",
       "<style scoped>\n",
       "    .dataframe tbody tr th:only-of-type {\n",
       "        vertical-align: middle;\n",
       "    }\n",
       "\n",
       "    .dataframe tbody tr th {\n",
       "        vertical-align: top;\n",
       "    }\n",
       "\n",
       "    .dataframe thead th {\n",
       "        text-align: right;\n",
       "    }\n",
       "</style>\n",
       "<table border=\"1\" class=\"dataframe\">\n",
       "  <thead>\n",
       "    <tr style=\"text-align: right;\">\n",
       "      <th></th>\n",
       "      <th>N</th>\n",
       "      <th>P</th>\n",
       "      <th>K</th>\n",
       "      <th>temperature</th>\n",
       "      <th>humidity</th>\n",
       "      <th>ph</th>\n",
       "      <th>rainfall</th>\n",
       "      <th>label</th>\n",
       "    </tr>\n",
       "  </thead>\n",
       "  <tbody>\n",
       "    <tr>\n",
       "      <th>0</th>\n",
       "      <td>90</td>\n",
       "      <td>42</td>\n",
       "      <td>43</td>\n",
       "      <td>20.879744</td>\n",
       "      <td>82.002744</td>\n",
       "      <td>6.502985</td>\n",
       "      <td>202.935536</td>\n",
       "      <td>rice</td>\n",
       "    </tr>\n",
       "    <tr>\n",
       "      <th>1</th>\n",
       "      <td>85</td>\n",
       "      <td>58</td>\n",
       "      <td>41</td>\n",
       "      <td>21.770462</td>\n",
       "      <td>80.319644</td>\n",
       "      <td>7.038096</td>\n",
       "      <td>226.655537</td>\n",
       "      <td>rice</td>\n",
       "    </tr>\n",
       "    <tr>\n",
       "      <th>2</th>\n",
       "      <td>60</td>\n",
       "      <td>55</td>\n",
       "      <td>44</td>\n",
       "      <td>23.004459</td>\n",
       "      <td>82.320763</td>\n",
       "      <td>7.840207</td>\n",
       "      <td>263.964248</td>\n",
       "      <td>rice</td>\n",
       "    </tr>\n",
       "    <tr>\n",
       "      <th>3</th>\n",
       "      <td>74</td>\n",
       "      <td>35</td>\n",
       "      <td>40</td>\n",
       "      <td>26.491096</td>\n",
       "      <td>80.158363</td>\n",
       "      <td>6.980401</td>\n",
       "      <td>242.864034</td>\n",
       "      <td>rice</td>\n",
       "    </tr>\n",
       "    <tr>\n",
       "      <th>4</th>\n",
       "      <td>78</td>\n",
       "      <td>42</td>\n",
       "      <td>42</td>\n",
       "      <td>20.130175</td>\n",
       "      <td>81.604873</td>\n",
       "      <td>7.628473</td>\n",
       "      <td>262.717340</td>\n",
       "      <td>rice</td>\n",
       "    </tr>\n",
       "    <tr>\n",
       "      <th>...</th>\n",
       "      <td>...</td>\n",
       "      <td>...</td>\n",
       "      <td>...</td>\n",
       "      <td>...</td>\n",
       "      <td>...</td>\n",
       "      <td>...</td>\n",
       "      <td>...</td>\n",
       "      <td>...</td>\n",
       "    </tr>\n",
       "    <tr>\n",
       "      <th>2195</th>\n",
       "      <td>107</td>\n",
       "      <td>34</td>\n",
       "      <td>32</td>\n",
       "      <td>26.774637</td>\n",
       "      <td>66.413269</td>\n",
       "      <td>6.780064</td>\n",
       "      <td>177.774507</td>\n",
       "      <td>coffee</td>\n",
       "    </tr>\n",
       "    <tr>\n",
       "      <th>2196</th>\n",
       "      <td>99</td>\n",
       "      <td>15</td>\n",
       "      <td>27</td>\n",
       "      <td>27.417112</td>\n",
       "      <td>56.636362</td>\n",
       "      <td>6.086922</td>\n",
       "      <td>127.924610</td>\n",
       "      <td>coffee</td>\n",
       "    </tr>\n",
       "    <tr>\n",
       "      <th>2197</th>\n",
       "      <td>118</td>\n",
       "      <td>33</td>\n",
       "      <td>30</td>\n",
       "      <td>24.131797</td>\n",
       "      <td>67.225123</td>\n",
       "      <td>6.362608</td>\n",
       "      <td>173.322839</td>\n",
       "      <td>coffee</td>\n",
       "    </tr>\n",
       "    <tr>\n",
       "      <th>2198</th>\n",
       "      <td>117</td>\n",
       "      <td>32</td>\n",
       "      <td>34</td>\n",
       "      <td>26.272418</td>\n",
       "      <td>52.127394</td>\n",
       "      <td>6.758793</td>\n",
       "      <td>127.175293</td>\n",
       "      <td>coffee</td>\n",
       "    </tr>\n",
       "    <tr>\n",
       "      <th>2199</th>\n",
       "      <td>104</td>\n",
       "      <td>18</td>\n",
       "      <td>30</td>\n",
       "      <td>23.603016</td>\n",
       "      <td>60.396475</td>\n",
       "      <td>6.779833</td>\n",
       "      <td>140.937041</td>\n",
       "      <td>coffee</td>\n",
       "    </tr>\n",
       "  </tbody>\n",
       "</table>\n",
       "<p>2200 rows × 8 columns</p>\n",
       "</div>"
      ],
      "text/plain": [
       "        N   P   K  temperature   humidity        ph    rainfall   label\n",
       "0      90  42  43    20.879744  82.002744  6.502985  202.935536    rice\n",
       "1      85  58  41    21.770462  80.319644  7.038096  226.655537    rice\n",
       "2      60  55  44    23.004459  82.320763  7.840207  263.964248    rice\n",
       "3      74  35  40    26.491096  80.158363  6.980401  242.864034    rice\n",
       "4      78  42  42    20.130175  81.604873  7.628473  262.717340    rice\n",
       "...   ...  ..  ..          ...        ...       ...         ...     ...\n",
       "2195  107  34  32    26.774637  66.413269  6.780064  177.774507  coffee\n",
       "2196   99  15  27    27.417112  56.636362  6.086922  127.924610  coffee\n",
       "2197  118  33  30    24.131797  67.225123  6.362608  173.322839  coffee\n",
       "2198  117  32  34    26.272418  52.127394  6.758793  127.175293  coffee\n",
       "2199  104  18  30    23.603016  60.396475  6.779833  140.937041  coffee\n",
       "\n",
       "[2200 rows x 8 columns]"
      ]
     },
     "execution_count": 3,
     "metadata": {},
     "output_type": "execute_result"
    }
   ],
   "source": [
    "df"
   ]
  },
  {
   "cell_type": "code",
   "execution_count": 4,
   "id": "8b5e9b1f",
   "metadata": {},
   "outputs": [],
   "source": [
    "df_x = df.drop('label',1)\n",
    "df_y = df['label']"
   ]
  },
  {
   "cell_type": "code",
   "execution_count": 5,
   "id": "46db52bb",
   "metadata": {},
   "outputs": [
    {
     "data": {
      "text/html": [
       "<div>\n",
       "<style scoped>\n",
       "    .dataframe tbody tr th:only-of-type {\n",
       "        vertical-align: middle;\n",
       "    }\n",
       "\n",
       "    .dataframe tbody tr th {\n",
       "        vertical-align: top;\n",
       "    }\n",
       "\n",
       "    .dataframe thead th {\n",
       "        text-align: right;\n",
       "    }\n",
       "</style>\n",
       "<table border=\"1\" class=\"dataframe\">\n",
       "  <thead>\n",
       "    <tr style=\"text-align: right;\">\n",
       "      <th></th>\n",
       "      <th>N</th>\n",
       "      <th>P</th>\n",
       "      <th>K</th>\n",
       "      <th>temperature</th>\n",
       "      <th>humidity</th>\n",
       "      <th>ph</th>\n",
       "      <th>rainfall</th>\n",
       "    </tr>\n",
       "  </thead>\n",
       "  <tbody>\n",
       "    <tr>\n",
       "      <th>0</th>\n",
       "      <td>90</td>\n",
       "      <td>42</td>\n",
       "      <td>43</td>\n",
       "      <td>20.879744</td>\n",
       "      <td>82.002744</td>\n",
       "      <td>6.502985</td>\n",
       "      <td>202.935536</td>\n",
       "    </tr>\n",
       "    <tr>\n",
       "      <th>1</th>\n",
       "      <td>85</td>\n",
       "      <td>58</td>\n",
       "      <td>41</td>\n",
       "      <td>21.770462</td>\n",
       "      <td>80.319644</td>\n",
       "      <td>7.038096</td>\n",
       "      <td>226.655537</td>\n",
       "    </tr>\n",
       "    <tr>\n",
       "      <th>2</th>\n",
       "      <td>60</td>\n",
       "      <td>55</td>\n",
       "      <td>44</td>\n",
       "      <td>23.004459</td>\n",
       "      <td>82.320763</td>\n",
       "      <td>7.840207</td>\n",
       "      <td>263.964248</td>\n",
       "    </tr>\n",
       "    <tr>\n",
       "      <th>3</th>\n",
       "      <td>74</td>\n",
       "      <td>35</td>\n",
       "      <td>40</td>\n",
       "      <td>26.491096</td>\n",
       "      <td>80.158363</td>\n",
       "      <td>6.980401</td>\n",
       "      <td>242.864034</td>\n",
       "    </tr>\n",
       "    <tr>\n",
       "      <th>4</th>\n",
       "      <td>78</td>\n",
       "      <td>42</td>\n",
       "      <td>42</td>\n",
       "      <td>20.130175</td>\n",
       "      <td>81.604873</td>\n",
       "      <td>7.628473</td>\n",
       "      <td>262.717340</td>\n",
       "    </tr>\n",
       "  </tbody>\n",
       "</table>\n",
       "</div>"
      ],
      "text/plain": [
       "    N   P   K  temperature   humidity        ph    rainfall\n",
       "0  90  42  43    20.879744  82.002744  6.502985  202.935536\n",
       "1  85  58  41    21.770462  80.319644  7.038096  226.655537\n",
       "2  60  55  44    23.004459  82.320763  7.840207  263.964248\n",
       "3  74  35  40    26.491096  80.158363  6.980401  242.864034\n",
       "4  78  42  42    20.130175  81.604873  7.628473  262.717340"
      ]
     },
     "execution_count": 5,
     "metadata": {},
     "output_type": "execute_result"
    }
   ],
   "source": [
    "df_x.head()"
   ]
  },
  {
   "cell_type": "code",
   "execution_count": 6,
   "id": "221b42c0",
   "metadata": {},
   "outputs": [],
   "source": [
    "scaler = StandardScaler()"
   ]
  },
  {
   "cell_type": "code",
   "execution_count": 7,
   "id": "dcffd09a",
   "metadata": {},
   "outputs": [],
   "source": [
    "# scaled = scaler.fit_transform(df[['N']])\n",
    "# df_x['N'] = scaled"
   ]
  },
  {
   "cell_type": "code",
   "execution_count": 8,
   "id": "e702058b",
   "metadata": {},
   "outputs": [],
   "source": [
    "scaled = scaler.fit_transform(df[['P']])\n",
    "df_x['P'] = scaled\n",
    "\n",
    "scaled = scaler.fit_transform(df[['K']])\n",
    "df_x['K'] = scaled\n",
    "\n",
    "scaled = scaler.fit_transform(df[['temperature']])\n",
    "df_x['temperature'] = scaled\n",
    "\n",
    "scaled = scaler.fit_transform(df[['humidity']])\n",
    "df_x['humidity'] = scaled\n",
    "\n",
    "scaled = scaler.fit_transform(df[['rainfall']])\n",
    "df_x['rainfall'] = scaled\n",
    "\n",
    "scaled = scaler.fit_transform(df[['ph']])\n",
    "df_x['ph'] = scaled\n"
   ]
  },
  {
   "cell_type": "code",
   "execution_count": 9,
   "id": "3e6d0da4",
   "metadata": {},
   "outputs": [
    {
     "data": {
      "text/html": [
       "<div>\n",
       "<style scoped>\n",
       "    .dataframe tbody tr th:only-of-type {\n",
       "        vertical-align: middle;\n",
       "    }\n",
       "\n",
       "    .dataframe tbody tr th {\n",
       "        vertical-align: top;\n",
       "    }\n",
       "\n",
       "    .dataframe thead th {\n",
       "        text-align: right;\n",
       "    }\n",
       "</style>\n",
       "<table border=\"1\" class=\"dataframe\">\n",
       "  <thead>\n",
       "    <tr style=\"text-align: right;\">\n",
       "      <th></th>\n",
       "      <th>N</th>\n",
       "      <th>P</th>\n",
       "      <th>K</th>\n",
       "      <th>temperature</th>\n",
       "      <th>humidity</th>\n",
       "      <th>ph</th>\n",
       "      <th>rainfall</th>\n",
       "    </tr>\n",
       "  </thead>\n",
       "  <tbody>\n",
       "    <tr>\n",
       "      <th>0</th>\n",
       "      <td>90</td>\n",
       "      <td>-0.344551</td>\n",
       "      <td>-0.101688</td>\n",
       "      <td>-0.935587</td>\n",
       "      <td>0.472666</td>\n",
       "      <td>0.043302</td>\n",
       "      <td>1.810361</td>\n",
       "    </tr>\n",
       "    <tr>\n",
       "      <th>1</th>\n",
       "      <td>85</td>\n",
       "      <td>0.140616</td>\n",
       "      <td>-0.141185</td>\n",
       "      <td>-0.759646</td>\n",
       "      <td>0.397051</td>\n",
       "      <td>0.734873</td>\n",
       "      <td>2.242058</td>\n",
       "    </tr>\n",
       "    <tr>\n",
       "      <th>2</th>\n",
       "      <td>60</td>\n",
       "      <td>0.049647</td>\n",
       "      <td>-0.081939</td>\n",
       "      <td>-0.515898</td>\n",
       "      <td>0.486954</td>\n",
       "      <td>1.771510</td>\n",
       "      <td>2.921066</td>\n",
       "    </tr>\n",
       "    <tr>\n",
       "      <th>3</th>\n",
       "      <td>74</td>\n",
       "      <td>-0.556811</td>\n",
       "      <td>-0.160933</td>\n",
       "      <td>0.172807</td>\n",
       "      <td>0.389805</td>\n",
       "      <td>0.660308</td>\n",
       "      <td>2.537048</td>\n",
       "    </tr>\n",
       "    <tr>\n",
       "      <th>4</th>\n",
       "      <td>78</td>\n",
       "      <td>-0.344551</td>\n",
       "      <td>-0.121436</td>\n",
       "      <td>-1.083647</td>\n",
       "      <td>0.454792</td>\n",
       "      <td>1.497868</td>\n",
       "      <td>2.898373</td>\n",
       "    </tr>\n",
       "  </tbody>\n",
       "</table>\n",
       "</div>"
      ],
      "text/plain": [
       "    N         P         K  temperature  humidity        ph  rainfall\n",
       "0  90 -0.344551 -0.101688    -0.935587  0.472666  0.043302  1.810361\n",
       "1  85  0.140616 -0.141185    -0.759646  0.397051  0.734873  2.242058\n",
       "2  60  0.049647 -0.081939    -0.515898  0.486954  1.771510  2.921066\n",
       "3  74 -0.556811 -0.160933     0.172807  0.389805  0.660308  2.537048\n",
       "4  78 -0.344551 -0.121436    -1.083647  0.454792  1.497868  2.898373"
      ]
     },
     "execution_count": 9,
     "metadata": {},
     "output_type": "execute_result"
    }
   ],
   "source": [
    "df_x.head()"
   ]
  },
  {
   "cell_type": "code",
   "execution_count": 10,
   "id": "64cf5f0b",
   "metadata": {
    "scrolled": false
   },
   "outputs": [
    {
     "data": {
      "text/html": [
       "<div>\n",
       "<style scoped>\n",
       "    .dataframe tbody tr th:only-of-type {\n",
       "        vertical-align: middle;\n",
       "    }\n",
       "\n",
       "    .dataframe tbody tr th {\n",
       "        vertical-align: top;\n",
       "    }\n",
       "\n",
       "    .dataframe thead th {\n",
       "        text-align: right;\n",
       "    }\n",
       "</style>\n",
       "<table border=\"1\" class=\"dataframe\">\n",
       "  <thead>\n",
       "    <tr style=\"text-align: right;\">\n",
       "      <th></th>\n",
       "      <th>N</th>\n",
       "      <th>P</th>\n",
       "      <th>K</th>\n",
       "      <th>temperature</th>\n",
       "      <th>humidity</th>\n",
       "      <th>ph</th>\n",
       "      <th>rainfall</th>\n",
       "    </tr>\n",
       "  </thead>\n",
       "  <tbody>\n",
       "    <tr>\n",
       "      <th>count</th>\n",
       "      <td>2200.000000</td>\n",
       "      <td>2.200000e+03</td>\n",
       "      <td>2.200000e+03</td>\n",
       "      <td>2.200000e+03</td>\n",
       "      <td>2.200000e+03</td>\n",
       "      <td>2.200000e+03</td>\n",
       "      <td>2.200000e+03</td>\n",
       "    </tr>\n",
       "    <tr>\n",
       "      <th>mean</th>\n",
       "      <td>50.551818</td>\n",
       "      <td>2.903738e-16</td>\n",
       "      <td>-5.137305e-17</td>\n",
       "      <td>5.041926e-16</td>\n",
       "      <td>-1.127633e-16</td>\n",
       "      <td>-6.825348e-17</td>\n",
       "      <td>1.382732e-17</td>\n",
       "    </tr>\n",
       "    <tr>\n",
       "      <th>std</th>\n",
       "      <td>36.917334</td>\n",
       "      <td>1.000227e+00</td>\n",
       "      <td>1.000227e+00</td>\n",
       "      <td>1.000227e+00</td>\n",
       "      <td>1.000227e+00</td>\n",
       "      <td>1.000227e+00</td>\n",
       "      <td>1.000227e+00</td>\n",
       "    </tr>\n",
       "    <tr>\n",
       "      <th>min</th>\n",
       "      <td>0.000000</td>\n",
       "      <td>-1.466498e+00</td>\n",
       "      <td>-8.521355e-01</td>\n",
       "      <td>-3.316592e+00</td>\n",
       "      <td>-2.570842e+00</td>\n",
       "      <td>-3.831577e+00</td>\n",
       "      <td>-1.515170e+00</td>\n",
       "    </tr>\n",
       "    <tr>\n",
       "      <th>25%</th>\n",
       "      <td>21.000000</td>\n",
       "      <td>-7.690712e-01</td>\n",
       "      <td>-5.559060e-01</td>\n",
       "      <td>-5.623337e-01</td>\n",
       "      <td>-5.040636e-01</td>\n",
       "      <td>-6.433340e-01</td>\n",
       "      <td>-7.081870e-01</td>\n",
       "    </tr>\n",
       "    <tr>\n",
       "      <th>50%</th>\n",
       "      <td>37.000000</td>\n",
       "      <td>-7.164472e-02</td>\n",
       "      <td>-3.189225e-01</td>\n",
       "      <td>-3.466729e-03</td>\n",
       "      <td>4.039475e-01</td>\n",
       "      <td>-5.742697e-02</td>\n",
       "      <td>-1.564454e-01</td>\n",
       "    </tr>\n",
       "    <tr>\n",
       "      <th>75%</th>\n",
       "      <td>84.250000</td>\n",
       "      <td>4.438444e-01</td>\n",
       "      <td>1.680429e-02</td>\n",
       "      <td>5.817982e-01</td>\n",
       "      <td>8.296508e-01</td>\n",
       "      <td>5.869540e-01</td>\n",
       "      <td>3.786243e-01</td>\n",
       "    </tr>\n",
       "    <tr>\n",
       "      <th>max</th>\n",
       "      <td>140.000000</td>\n",
       "      <td>2.778707e+00</td>\n",
       "      <td>3.097591e+00</td>\n",
       "      <td>3.567190e+00</td>\n",
       "      <td>1.280400e+00</td>\n",
       "      <td>4.478912e+00</td>\n",
       "      <td>3.550701e+00</td>\n",
       "    </tr>\n",
       "  </tbody>\n",
       "</table>\n",
       "</div>"
      ],
      "text/plain": [
       "                 N             P             K   temperature      humidity  \\\n",
       "count  2200.000000  2.200000e+03  2.200000e+03  2.200000e+03  2.200000e+03   \n",
       "mean     50.551818  2.903738e-16 -5.137305e-17  5.041926e-16 -1.127633e-16   \n",
       "std      36.917334  1.000227e+00  1.000227e+00  1.000227e+00  1.000227e+00   \n",
       "min       0.000000 -1.466498e+00 -8.521355e-01 -3.316592e+00 -2.570842e+00   \n",
       "25%      21.000000 -7.690712e-01 -5.559060e-01 -5.623337e-01 -5.040636e-01   \n",
       "50%      37.000000 -7.164472e-02 -3.189225e-01 -3.466729e-03  4.039475e-01   \n",
       "75%      84.250000  4.438444e-01  1.680429e-02  5.817982e-01  8.296508e-01   \n",
       "max     140.000000  2.778707e+00  3.097591e+00  3.567190e+00  1.280400e+00   \n",
       "\n",
       "                 ph      rainfall  \n",
       "count  2.200000e+03  2.200000e+03  \n",
       "mean  -6.825348e-17  1.382732e-17  \n",
       "std    1.000227e+00  1.000227e+00  \n",
       "min   -3.831577e+00 -1.515170e+00  \n",
       "25%   -6.433340e-01 -7.081870e-01  \n",
       "50%   -5.742697e-02 -1.564454e-01  \n",
       "75%    5.869540e-01  3.786243e-01  \n",
       "max    4.478912e+00  3.550701e+00  "
      ]
     },
     "execution_count": 10,
     "metadata": {},
     "output_type": "execute_result"
    }
   ],
   "source": [
    "df_x.describe()"
   ]
  },
  {
   "cell_type": "code",
   "execution_count": 11,
   "id": "5d4498d0",
   "metadata": {
    "scrolled": true
   },
   "outputs": [
    {
     "data": {
      "text/plain": [
       "22"
      ]
     },
     "execution_count": 11,
     "metadata": {},
     "output_type": "execute_result"
    }
   ],
   "source": [
    "len(df_y.value_counts())"
   ]
  },
  {
   "cell_type": "code",
   "execution_count": 12,
   "id": "d704845a",
   "metadata": {},
   "outputs": [],
   "source": [
    "df_x_train,df_x_test,df_y_train,df_y_test = train_test_split(df_x,df_y,test_size = 0.3, random_state = 42,stratify = df_y)"
   ]
  },
  {
   "cell_type": "code",
   "execution_count": 13,
   "id": "8c4f6f67",
   "metadata": {},
   "outputs": [],
   "source": [
    "import xgboost as xgb"
   ]
  },
  {
   "cell_type": "code",
   "execution_count": 14,
   "id": "81cb00db",
   "metadata": {},
   "outputs": [],
   "source": [
    "params_xgb = {\n",
    "    'booster': ['gbtree'],\n",
    "    'normalize_type': ['tree'],\n",
    "    'objective': ['multi:softprob'],\n",
    "    'max_depth':[3,4,5,6],\n",
    "    'num_class' : [22]    \n",
    "}"
   ]
  },
  {
   "cell_type": "raw",
   "id": "e906074f",
   "metadata": {},
   "source": [
    "process_type"
   ]
  },
  {
   "cell_type": "code",
   "execution_count": 15,
   "id": "8a6279dc",
   "metadata": {
    "scrolled": true
   },
   "outputs": [],
   "source": [
    "# gridsearch = GridSearchCV(xgb.XGBClassifier(),params_xgb,cv=5,verbose = 1,n_jobs = -1)\n",
    "# model = gridsearch.fit(df_x_train,df_y_train)"
   ]
  },
  {
   "cell_type": "code",
   "execution_count": 16,
   "id": "e11f5653",
   "metadata": {
    "scrolled": true
   },
   "outputs": [
    {
     "name": "stderr",
     "output_type": "stream",
     "text": [
      "C:\\Users\\Asus\\anaconda3\\lib\\site-packages\\sklearn\\model_selection\\_search.py:292: UserWarning: The total space of parameters 4 is smaller than n_iter=10. Running 4 iterations. For exhaustive searches, use GridSearchCV.\n",
      "  warnings.warn(\n"
     ]
    },
    {
     "name": "stdout",
     "output_type": "stream",
     "text": [
      "Fitting 5 folds for each of 4 candidates, totalling 20 fits\n"
     ]
    },
    {
     "name": "stderr",
     "output_type": "stream",
     "text": [
      "C:\\Users\\Asus\\anaconda3\\lib\\site-packages\\xgboost\\sklearn.py:1224: UserWarning: The use of label encoder in XGBClassifier is deprecated and will be removed in a future release. To remove this warning, do the following: 1) Pass option use_label_encoder=False when constructing XGBClassifier object; and 2) Encode your labels (y) as integers starting with 0, i.e. 0, 1, 2, ..., [num_class - 1].\n",
      "  warnings.warn(label_encoder_deprecation_msg, UserWarning)\n"
     ]
    },
    {
     "name": "stdout",
     "output_type": "stream",
     "text": [
      "[13:47:02] WARNING: C:/Users/Administrator/workspace/xgboost-win64_release_1.5.1/src/learner.cc:576: \n",
      "Parameters: { \"normalize_type\" } might not be used.\n",
      "\n",
      "  This could be a false alarm, with some parameters getting used by language bindings but\n",
      "  then being mistakenly passed down to XGBoost core, or some parameter actually being used\n",
      "  but getting flagged wrongly here. Please open an issue if you find any such cases.\n",
      "\n",
      "\n",
      "[13:47:02] WARNING: C:/Users/Administrator/workspace/xgboost-win64_release_1.5.1/src/learner.cc:1115: Starting in XGBoost 1.3.0, the default evaluation metric used with the objective 'multi:softprob' was changed from 'merror' to 'mlogloss'. Explicitly set eval_metric if you'd like to restore the old behavior.\n"
     ]
    }
   ],
   "source": [
    "random_search = RandomizedSearchCV(xgb.XGBClassifier(),params_xgb,cv = 5,scoring = 'f1_macro',n_jobs = -1,verbose = 1)\n",
    "model = random_search.fit(df_x_train,df_y_train)"
   ]
  },
  {
   "cell_type": "code",
   "execution_count": 17,
   "id": "57a01f42",
   "metadata": {},
   "outputs": [
    {
     "data": {
      "text/plain": [
       "sklearn.model_selection._search.RandomizedSearchCV"
      ]
     },
     "execution_count": 17,
     "metadata": {},
     "output_type": "execute_result"
    }
   ],
   "source": [
    "type(model)"
   ]
  },
  {
   "cell_type": "code",
   "execution_count": 18,
   "id": "ed8825ee",
   "metadata": {},
   "outputs": [],
   "source": [
    "params_new = model.best_params_"
   ]
  },
  {
   "cell_type": "code",
   "execution_count": 19,
   "id": "1956daf2",
   "metadata": {},
   "outputs": [
    {
     "data": {
      "text/plain": [
       "{'objective': 'multi:softprob',\n",
       " 'num_class': 22,\n",
       " 'normalize_type': 'tree',\n",
       " 'max_depth': 5,\n",
       " 'booster': 'gbtree'}"
      ]
     },
     "execution_count": 19,
     "metadata": {},
     "output_type": "execute_result"
    }
   ],
   "source": [
    "params_new"
   ]
  },
  {
   "cell_type": "code",
   "execution_count": 20,
   "id": "d449686b",
   "metadata": {
    "scrolled": true
   },
   "outputs": [
    {
     "name": "stderr",
     "output_type": "stream",
     "text": [
      "C:\\Users\\Asus\\anaconda3\\lib\\site-packages\\xgboost\\core.py:499: FutureWarning: Pass `objective` as keyword args.  Passing these as positional arguments will be considered as error in future releases.\n",
      "  warnings.warn(\n"
     ]
    },
    {
     "name": "stdout",
     "output_type": "stream",
     "text": [
      "[13:47:03] WARNING: C:/Users/Administrator/workspace/xgboost-win64_release_1.5.1/src/learner.cc:1115: Starting in XGBoost 1.3.0, the default evaluation metric used with the objective 'multi:softprob' was changed from 'merror' to 'mlogloss'. Explicitly set eval_metric if you'd like to restore the old behavior.\n"
     ]
    },
    {
     "data": {
      "text/plain": [
       "XGBClassifier(base_score=0.5, booster='gbtree', colsample_bylevel=1,\n",
       "              colsample_bynode=1, colsample_bytree=1, enable_categorical=False,\n",
       "              gamma=0, gpu_id=-1, importance_type=None,\n",
       "              interaction_constraints='', learning_rate=0.300000012,\n",
       "              max_delta_step=0, max_depth=6, min_child_weight=1, missing=nan,\n",
       "              monotone_constraints='()', n_estimators=100, n_jobs=8,\n",
       "              num_parallel_tree=1, objective='multi:softprob', predictor='auto',\n",
       "              random_state=42, reg_alpha=0, reg_lambda=1, scale_pos_weight=None,\n",
       "              seed=42, subsample=1, tree_method='exact', validate_parameters=1,\n",
       "              verbosity=None)"
      ]
     },
     "execution_count": 20,
     "metadata": {},
     "output_type": "execute_result"
    }
   ],
   "source": [
    "model1 = xgb.XGBClassifier(params_new , seed = 42)\n",
    "model1.fit(df_x_train,df_y_train)"
   ]
  },
  {
   "cell_type": "code",
   "execution_count": 21,
   "id": "e099250e",
   "metadata": {},
   "outputs": [
    {
     "data": {
      "text/plain": [
       "array(['kidneybeans', 'mothbeans', 'blackgram', 'jute', 'jute',\n",
       "       'kidneybeans', 'papaya', 'mango', 'coffee', 'maize', 'rice',\n",
       "       'papaya', 'coconut', 'orange', 'mango', 'banana', 'lentil',\n",
       "       'chickpea', 'blackgram', 'cotton', 'mango', 'muskmelon', 'banana',\n",
       "       'kidneybeans', 'pigeonpeas', 'papaya', 'jute', 'mango',\n",
       "       'kidneybeans', 'grapes', 'mothbeans', 'jute', 'mungbean',\n",
       "       'pomegranate', 'mothbeans', 'rice', 'kidneybeans', 'cotton',\n",
       "       'blackgram', 'grapes', 'mothbeans', 'apple', 'coconut',\n",
       "       'watermelon', 'cotton', 'kidneybeans', 'maize', 'chickpea',\n",
       "       'orange', 'cotton', 'mango', 'kidneybeans', 'muskmelon', 'lentil',\n",
       "       'apple', 'banana', 'apple', 'maize', 'banana', 'coconut', 'lentil',\n",
       "       'chickpea', 'banana', 'pigeonpeas', 'coconut', 'rice',\n",
       "       'pigeonpeas', 'papaya', 'coffee', 'rice', 'orange', 'watermelon',\n",
       "       'coffee', 'banana', 'chickpea', 'jute', 'muskmelon', 'pigeonpeas',\n",
       "       'maize', 'blackgram', 'grapes', 'cotton', 'grapes', 'orange',\n",
       "       'chickpea', 'blackgram', 'pigeonpeas', 'rice', 'coffee', 'coconut',\n",
       "       'mothbeans', 'watermelon', 'grapes', 'grapes', 'banana', 'grapes',\n",
       "       'apple', 'pomegranate', 'mungbean', 'papaya', 'jute', 'banana',\n",
       "       'coffee', 'muskmelon', 'pigeonpeas', 'chickpea', 'grapes',\n",
       "       'watermelon', 'pomegranate', 'papaya', 'orange', 'mothbeans',\n",
       "       'pomegranate', 'grapes', 'jute', 'watermelon', 'mango', 'rice',\n",
       "       'cotton', 'mothbeans', 'mungbean', 'blackgram', 'orange', 'grapes',\n",
       "       'muskmelon', 'mango', 'coconut', 'cotton', 'mothbeans', 'chickpea',\n",
       "       'pomegranate', 'pomegranate', 'orange', 'kidneybeans',\n",
       "       'kidneybeans', 'jute', 'mungbean', 'watermelon', 'pigeonpeas',\n",
       "       'apple', 'maize', 'mango', 'orange', 'coffee', 'papaya', 'coffee',\n",
       "       'jute', 'grapes', 'mango', 'orange', 'jute', 'kidneybeans',\n",
       "       'muskmelon', 'pomegranate', 'kidneybeans', 'lentil', 'lentil',\n",
       "       'papaya', 'pomegranate', 'kidneybeans', 'maize', 'lentil',\n",
       "       'blackgram', 'coconut', 'orange', 'muskmelon', 'coffee',\n",
       "       'kidneybeans', 'lentil', 'watermelon', 'rice', 'chickpea',\n",
       "       'grapes', 'mothbeans', 'apple', 'watermelon', 'watermelon',\n",
       "       'pigeonpeas', 'mungbean', 'jute', 'coffee', 'papaya', 'maize',\n",
       "       'jute', 'jute', 'banana', 'mothbeans', 'chickpea', 'maize',\n",
       "       'coconut', 'blackgram', 'pigeonpeas', 'coffee', 'papaya', 'mango',\n",
       "       'watermelon', 'muskmelon', 'muskmelon', 'watermelon', 'muskmelon',\n",
       "       'apple', 'blackgram', 'orange', 'mothbeans', 'watermelon',\n",
       "       'pomegranate', 'coconut', 'rice', 'muskmelon', 'maize',\n",
       "       'kidneybeans', 'muskmelon', 'mungbean', 'apple', 'maize', 'mango',\n",
       "       'kidneybeans', 'pomegranate', 'mothbeans', 'apple', 'grapes',\n",
       "       'watermelon', 'coconut', 'cotton', 'mungbean', 'lentil', 'lentil',\n",
       "       'cotton', 'pigeonpeas', 'maize', 'grapes', 'watermelon',\n",
       "       'mungbean', 'mungbean', 'pigeonpeas', 'rice', 'rice', 'maize',\n",
       "       'pomegranate', 'blackgram', 'banana', 'mango', 'chickpea',\n",
       "       'chickpea', 'pigeonpeas', 'mango', 'papaya', 'banana',\n",
       "       'pomegranate', 'chickpea', 'coconut', 'coconut', 'coconut',\n",
       "       'apple', 'mungbean', 'blackgram', 'banana', 'maize', 'watermelon',\n",
       "       'orange', 'watermelon', 'pomegranate', 'mango', 'blackgram',\n",
       "       'muskmelon', 'maize', 'apple', 'muskmelon', 'apple', 'coffee',\n",
       "       'chickpea', 'coconut', 'orange', 'kidneybeans', 'blackgram',\n",
       "       'cotton', 'mothbeans', 'grapes', 'apple', 'muskmelon', 'mango',\n",
       "       'pomegranate', 'orange', 'mothbeans', 'rice', 'jute', 'blackgram',\n",
       "       'banana', 'coconut', 'maize', 'chickpea', 'rice', 'blackgram',\n",
       "       'cotton', 'cotton', 'mothbeans', 'coffee', 'mungbean',\n",
       "       'pomegranate', 'blackgram', 'orange', 'rice', 'jute', 'blackgram',\n",
       "       'orange', 'blackgram', 'papaya', 'jute', 'lentil', 'coconut',\n",
       "       'coffee', 'apple', 'cotton', 'chickpea', 'mothbeans', 'rice',\n",
       "       'cotton', 'blackgram', 'blackgram', 'kidneybeans', 'banana',\n",
       "       'grapes', 'cotton', 'lentil', 'maize', 'pomegranate', 'coconut',\n",
       "       'coffee', 'chickpea', 'banana', 'mothbeans', 'pigeonpeas',\n",
       "       'watermelon', 'orange', 'mungbean', 'apple', 'mango', 'watermelon',\n",
       "       'coffee', 'banana', 'cotton', 'kidneybeans', 'watermelon',\n",
       "       'pigeonpeas', 'orange', 'mungbean', 'lentil', 'grapes', 'apple',\n",
       "       'apple', 'rice', 'rice', 'banana', 'cotton', 'orange', 'mothbeans',\n",
       "       'rice', 'mango', 'cotton', 'apple', 'lentil', 'mothbeans',\n",
       "       'muskmelon', 'mothbeans', 'grapes', 'banana', 'pigeonpeas',\n",
       "       'mungbean', 'maize', 'coffee', 'pomegranate', 'grapes', 'lentil',\n",
       "       'blackgram', 'mothbeans', 'coffee', 'coconut', 'mango',\n",
       "       'pigeonpeas', 'lentil', 'banana', 'mungbean', 'jute', 'lentil',\n",
       "       'coffee', 'lentil', 'mothbeans', 'jute', 'maize', 'blackgram',\n",
       "       'muskmelon', 'mungbean', 'pomegranate', 'watermelon', 'muskmelon',\n",
       "       'kidneybeans', 'pomegranate', 'apple', 'mothbeans', 'apple',\n",
       "       'coffee', 'cotton', 'mungbean', 'kidneybeans', 'kidneybeans',\n",
       "       'mango', 'watermelon', 'mango', 'kidneybeans', 'papaya',\n",
       "       'muskmelon', 'banana', 'chickpea', 'chickpea', 'coconut', 'mango',\n",
       "       'pomegranate', 'mothbeans', 'rice', 'mungbean', 'muskmelon',\n",
       "       'pomegranate', 'mothbeans', 'blackgram', 'papaya', 'kidneybeans',\n",
       "       'coconut', 'mothbeans', 'coconut', 'banana', 'muskmelon', 'papaya',\n",
       "       'lentil', 'rice', 'cotton', 'chickpea', 'mothbeans', 'mango',\n",
       "       'kidneybeans', 'blackgram', 'orange', 'coconut', 'mungbean',\n",
       "       'lentil', 'pigeonpeas', 'jute', 'cotton', 'pomegranate', 'grapes',\n",
       "       'mungbean', 'grapes', 'pigeonpeas', 'rice', 'mothbeans', 'cotton',\n",
       "       'mango', 'mango', 'chickpea', 'banana', 'cotton', 'lentil', 'jute',\n",
       "       'maize', 'papaya', 'pomegranate', 'mango', 'pigeonpeas', 'banana',\n",
       "       'jute', 'chickpea', 'mungbean', 'lentil', 'blackgram',\n",
       "       'watermelon', 'cotton', 'pigeonpeas', 'papaya', 'chickpea',\n",
       "       'orange', 'pigeonpeas', 'apple', 'cotton', 'maize', 'chickpea',\n",
       "       'maize', 'chickpea', 'chickpea', 'coffee', 'chickpea', 'chickpea',\n",
       "       'mothbeans', 'muskmelon', 'lentil', 'jute', 'lentil', 'papaya',\n",
       "       'blackgram', 'watermelon', 'coconut', 'orange', 'banana', 'papaya',\n",
       "       'papaya', 'pomegranate', 'pomegranate', 'jute', 'watermelon',\n",
       "       'apple', 'coffee', 'papaya', 'mango', 'muskmelon', 'maize',\n",
       "       'coffee', 'rice', 'lentil', 'coffee', 'coffee', 'jute', 'coffee',\n",
       "       'papaya', 'blackgram', 'mungbean', 'coconut', 'banana',\n",
       "       'blackgram', 'pigeonpeas', 'cotton', 'banana', 'mungbean',\n",
       "       'orange', 'maize', 'muskmelon', 'apple', 'rice', 'coconut',\n",
       "       'pomegranate', 'jute', 'mungbean', 'jute', 'kidneybeans', 'maize',\n",
       "       'coconut', 'jute', 'pomegranate', 'coffee', 'lentil', 'apple',\n",
       "       'kidneybeans', 'maize', 'coconut', 'maize', 'pomegranate', 'rice',\n",
       "       'jute', 'kidneybeans', 'rice', 'papaya', 'banana', 'maize', 'rice',\n",
       "       'coffee', 'grapes', 'orange', 'mungbean', 'papaya', 'chickpea',\n",
       "       'papaya', 'apple', 'grapes', 'lentil', 'cotton', 'mungbean',\n",
       "       'kidneybeans', 'mango', 'muskmelon', 'pigeonpeas', 'kidneybeans',\n",
       "       'coconut', 'pomegranate', 'apple', 'mungbean', 'pigeonpeas',\n",
       "       'jute', 'muskmelon', 'mango', 'apple', 'jute', 'watermelon',\n",
       "       'coffee', 'pigeonpeas', 'pigeonpeas', 'mungbean', 'grapes',\n",
       "       'chickpea', 'pigeonpeas', 'banana', 'orange', 'watermelon',\n",
       "       'blackgram', 'maize', 'watermelon', 'muskmelon', 'jute', 'maize',\n",
       "       'lentil', 'orange', 'mothbeans', 'apple', 'apple', 'mungbean',\n",
       "       'mango', 'cotton', 'orange', 'blackgram', 'pomegranate', 'papaya',\n",
       "       'grapes', 'kidneybeans', 'papaya', 'coconut', 'watermelon',\n",
       "       'mungbean', 'rice', 'mothbeans', 'chickpea', 'rice', 'papaya',\n",
       "       'grapes', 'muskmelon', 'coconut', 'blackgram', 'cotton',\n",
       "       'mothbeans', 'grapes', 'rice', 'coffee', 'orange', 'cotton',\n",
       "       'rice', 'banana', 'grapes', 'banana', 'muskmelon', 'orange',\n",
       "       'grapes', 'maize', 'coffee', 'muskmelon', 'lentil', 'rice',\n",
       "       'grapes', 'watermelon', 'orange', 'mango', 'pigeonpeas', 'papaya',\n",
       "       'apple', 'watermelon', 'papaya'], dtype=object)"
      ]
     },
     "execution_count": 21,
     "metadata": {},
     "output_type": "execute_result"
    }
   ],
   "source": [
    "model1.predict(df_x_test)"
   ]
  },
  {
   "cell_type": "code",
   "execution_count": 22,
   "id": "f10201c5",
   "metadata": {},
   "outputs": [
    {
     "data": {
      "text/plain": [
       "array(['kidneybeans', 'mothbeans', 'blackgram', 'jute', 'jute',\n",
       "       'kidneybeans', 'papaya', 'mango', 'coffee', 'maize', 'rice',\n",
       "       'papaya', 'coconut', 'orange', 'mango', 'banana', 'lentil',\n",
       "       'chickpea', 'blackgram', 'cotton', 'mango', 'muskmelon', 'banana',\n",
       "       'kidneybeans', 'pigeonpeas', 'papaya', 'jute', 'mango',\n",
       "       'kidneybeans', 'grapes', 'mothbeans', 'jute', 'mungbean',\n",
       "       'pomegranate', 'mothbeans', 'rice', 'kidneybeans', 'cotton',\n",
       "       'blackgram', 'grapes', 'mothbeans', 'apple', 'coconut',\n",
       "       'watermelon', 'cotton', 'kidneybeans', 'maize', 'chickpea',\n",
       "       'orange', 'cotton', 'mango', 'kidneybeans', 'muskmelon', 'lentil',\n",
       "       'apple', 'banana', 'apple', 'maize', 'banana', 'coconut', 'lentil',\n",
       "       'chickpea', 'banana', 'pigeonpeas', 'coconut', 'rice',\n",
       "       'pigeonpeas', 'papaya', 'coffee', 'rice', 'orange', 'watermelon',\n",
       "       'coffee', 'banana', 'chickpea', 'jute', 'muskmelon', 'pigeonpeas',\n",
       "       'maize', 'blackgram', 'grapes', 'cotton', 'grapes', 'orange',\n",
       "       'chickpea', 'blackgram', 'pigeonpeas', 'rice', 'coffee', 'coconut',\n",
       "       'mothbeans', 'watermelon', 'grapes', 'grapes', 'banana', 'grapes',\n",
       "       'apple', 'pomegranate', 'mungbean', 'papaya', 'jute', 'banana',\n",
       "       'coffee', 'muskmelon', 'pigeonpeas', 'chickpea', 'grapes',\n",
       "       'watermelon', 'pomegranate', 'papaya', 'orange', 'mothbeans',\n",
       "       'pomegranate', 'grapes', 'jute', 'watermelon', 'mango', 'rice',\n",
       "       'cotton', 'mothbeans', 'mungbean', 'blackgram', 'orange', 'grapes',\n",
       "       'muskmelon', 'mango', 'coconut', 'cotton', 'mothbeans', 'chickpea',\n",
       "       'pomegranate', 'pomegranate', 'orange', 'kidneybeans',\n",
       "       'kidneybeans', 'jute', 'mungbean', 'watermelon', 'pigeonpeas',\n",
       "       'apple', 'maize', 'mango', 'orange', 'coffee', 'papaya', 'coffee',\n",
       "       'jute', 'grapes', 'mango', 'orange', 'jute', 'kidneybeans',\n",
       "       'muskmelon', 'pomegranate', 'kidneybeans', 'lentil', 'lentil',\n",
       "       'papaya', 'pomegranate', 'kidneybeans', 'maize', 'lentil',\n",
       "       'blackgram', 'coconut', 'orange', 'muskmelon', 'coffee',\n",
       "       'kidneybeans', 'lentil', 'watermelon', 'rice', 'chickpea',\n",
       "       'grapes', 'mothbeans', 'apple', 'watermelon', 'watermelon',\n",
       "       'pigeonpeas', 'mungbean', 'jute', 'coffee', 'papaya', 'maize',\n",
       "       'jute', 'jute', 'banana', 'mothbeans', 'chickpea', 'maize',\n",
       "       'coconut', 'blackgram', 'pigeonpeas', 'coffee', 'papaya', 'mango',\n",
       "       'watermelon', 'muskmelon', 'muskmelon', 'watermelon', 'muskmelon',\n",
       "       'apple', 'blackgram', 'orange', 'mothbeans', 'watermelon',\n",
       "       'pomegranate', 'coconut', 'rice', 'muskmelon', 'maize',\n",
       "       'kidneybeans', 'muskmelon', 'mungbean', 'apple', 'maize', 'mango',\n",
       "       'kidneybeans', 'pomegranate', 'mothbeans', 'apple', 'grapes',\n",
       "       'watermelon', 'coconut', 'cotton', 'mungbean', 'lentil', 'lentil',\n",
       "       'cotton', 'pigeonpeas', 'maize', 'grapes', 'watermelon',\n",
       "       'mungbean', 'mungbean', 'pigeonpeas', 'rice', 'rice', 'maize',\n",
       "       'pomegranate', 'blackgram', 'banana', 'mango', 'chickpea',\n",
       "       'chickpea', 'pigeonpeas', 'mango', 'papaya', 'banana',\n",
       "       'pomegranate', 'chickpea', 'coconut', 'coconut', 'coconut',\n",
       "       'apple', 'mungbean', 'blackgram', 'banana', 'maize', 'watermelon',\n",
       "       'orange', 'watermelon', 'pomegranate', 'mango', 'blackgram',\n",
       "       'muskmelon', 'maize', 'apple', 'muskmelon', 'apple', 'coffee',\n",
       "       'chickpea', 'coconut', 'orange', 'kidneybeans', 'blackgram',\n",
       "       'cotton', 'mothbeans', 'grapes', 'apple', 'muskmelon', 'mango',\n",
       "       'pomegranate', 'orange', 'mothbeans', 'rice', 'jute', 'blackgram',\n",
       "       'banana', 'coconut', 'maize', 'chickpea', 'rice', 'blackgram',\n",
       "       'cotton', 'cotton', 'mothbeans', 'coffee', 'mungbean',\n",
       "       'pomegranate', 'blackgram', 'orange', 'rice', 'jute', 'blackgram',\n",
       "       'orange', 'blackgram', 'papaya', 'jute', 'lentil', 'coconut',\n",
       "       'coffee', 'apple', 'cotton', 'chickpea', 'mothbeans', 'rice',\n",
       "       'cotton', 'blackgram', 'blackgram', 'kidneybeans', 'banana',\n",
       "       'grapes', 'cotton', 'lentil', 'maize', 'pomegranate', 'coconut',\n",
       "       'coffee', 'chickpea', 'banana', 'mothbeans', 'pigeonpeas',\n",
       "       'watermelon', 'orange', 'mungbean', 'apple', 'mango', 'watermelon',\n",
       "       'coffee', 'banana', 'cotton', 'kidneybeans', 'watermelon',\n",
       "       'pigeonpeas', 'orange', 'mungbean', 'lentil', 'grapes', 'apple',\n",
       "       'apple', 'rice', 'rice', 'banana', 'cotton', 'orange', 'mothbeans',\n",
       "       'rice', 'mango', 'cotton', 'apple', 'lentil', 'mothbeans',\n",
       "       'muskmelon', 'mothbeans', 'grapes', 'banana', 'pigeonpeas',\n",
       "       'mungbean', 'maize', 'coffee', 'pomegranate', 'grapes', 'lentil',\n",
       "       'blackgram', 'mothbeans', 'coffee', 'coconut', 'mango',\n",
       "       'pigeonpeas', 'lentil', 'banana', 'mungbean', 'jute', 'lentil',\n",
       "       'coffee', 'lentil', 'mothbeans', 'jute', 'maize', 'blackgram',\n",
       "       'muskmelon', 'mungbean', 'pomegranate', 'watermelon', 'muskmelon',\n",
       "       'kidneybeans', 'pomegranate', 'apple', 'mothbeans', 'apple',\n",
       "       'coffee', 'cotton', 'mungbean', 'kidneybeans', 'kidneybeans',\n",
       "       'mango', 'watermelon', 'mango', 'kidneybeans', 'papaya',\n",
       "       'muskmelon', 'banana', 'chickpea', 'chickpea', 'coconut', 'mango',\n",
       "       'pomegranate', 'mothbeans', 'rice', 'mungbean', 'muskmelon',\n",
       "       'pomegranate', 'mothbeans', 'blackgram', 'papaya', 'kidneybeans',\n",
       "       'coconut', 'mothbeans', 'coconut', 'banana', 'muskmelon', 'papaya',\n",
       "       'lentil', 'rice', 'cotton', 'chickpea', 'mothbeans', 'mango',\n",
       "       'kidneybeans', 'blackgram', 'orange', 'coconut', 'mungbean',\n",
       "       'lentil', 'pigeonpeas', 'jute', 'cotton', 'pomegranate', 'grapes',\n",
       "       'mungbean', 'grapes', 'pigeonpeas', 'rice', 'mothbeans', 'cotton',\n",
       "       'mango', 'mango', 'chickpea', 'banana', 'cotton', 'lentil', 'jute',\n",
       "       'maize', 'papaya', 'pomegranate', 'mango', 'pigeonpeas', 'banana',\n",
       "       'jute', 'chickpea', 'mungbean', 'lentil', 'blackgram',\n",
       "       'watermelon', 'cotton', 'pigeonpeas', 'papaya', 'chickpea',\n",
       "       'orange', 'pigeonpeas', 'apple', 'cotton', 'maize', 'chickpea',\n",
       "       'maize', 'chickpea', 'chickpea', 'coffee', 'chickpea', 'chickpea',\n",
       "       'mothbeans', 'muskmelon', 'lentil', 'jute', 'lentil', 'papaya',\n",
       "       'blackgram', 'watermelon', 'coconut', 'orange', 'banana', 'papaya',\n",
       "       'papaya', 'pomegranate', 'pomegranate', 'jute', 'watermelon',\n",
       "       'apple', 'coffee', 'papaya', 'mango', 'muskmelon', 'maize',\n",
       "       'coffee', 'rice', 'lentil', 'coffee', 'coffee', 'jute', 'coffee',\n",
       "       'papaya', 'blackgram', 'mungbean', 'coconut', 'banana',\n",
       "       'blackgram', 'pigeonpeas', 'cotton', 'banana', 'mungbean',\n",
       "       'orange', 'maize', 'muskmelon', 'apple', 'rice', 'coconut',\n",
       "       'pomegranate', 'jute', 'mungbean', 'jute', 'kidneybeans', 'maize',\n",
       "       'coconut', 'jute', 'pomegranate', 'coffee', 'lentil', 'apple',\n",
       "       'kidneybeans', 'maize', 'coconut', 'maize', 'pomegranate', 'rice',\n",
       "       'jute', 'kidneybeans', 'rice', 'papaya', 'banana', 'maize', 'rice',\n",
       "       'coffee', 'grapes', 'orange', 'mungbean', 'papaya', 'chickpea',\n",
       "       'papaya', 'apple', 'grapes', 'lentil', 'cotton', 'mungbean',\n",
       "       'kidneybeans', 'mango', 'muskmelon', 'pigeonpeas', 'kidneybeans',\n",
       "       'coconut', 'pomegranate', 'apple', 'mungbean', 'pigeonpeas',\n",
       "       'jute', 'muskmelon', 'mango', 'apple', 'jute', 'watermelon',\n",
       "       'coffee', 'pigeonpeas', 'pigeonpeas', 'mungbean', 'grapes',\n",
       "       'chickpea', 'pigeonpeas', 'banana', 'orange', 'watermelon',\n",
       "       'blackgram', 'maize', 'watermelon', 'muskmelon', 'jute', 'maize',\n",
       "       'lentil', 'orange', 'mothbeans', 'apple', 'apple', 'mungbean',\n",
       "       'mango', 'cotton', 'orange', 'blackgram', 'pomegranate', 'papaya',\n",
       "       'grapes', 'kidneybeans', 'papaya', 'coconut', 'watermelon',\n",
       "       'mungbean', 'rice', 'mothbeans', 'chickpea', 'rice', 'papaya',\n",
       "       'grapes', 'muskmelon', 'coconut', 'blackgram', 'cotton',\n",
       "       'mothbeans', 'grapes', 'rice', 'coffee', 'orange', 'cotton',\n",
       "       'rice', 'banana', 'grapes', 'banana', 'muskmelon', 'orange',\n",
       "       'grapes', 'maize', 'coffee', 'muskmelon', 'lentil', 'rice',\n",
       "       'grapes', 'watermelon', 'orange', 'mango', 'pigeonpeas', 'papaya',\n",
       "       'apple', 'watermelon', 'papaya'], dtype=object)"
      ]
     },
     "execution_count": 22,
     "metadata": {},
     "output_type": "execute_result"
    }
   ],
   "source": [
    "predictions = model.predict(df_x_test)\n",
    "predictions"
   ]
  },
  {
   "cell_type": "code",
   "execution_count": 23,
   "id": "662c92bc",
   "metadata": {},
   "outputs": [
    {
     "data": {
      "text/plain": [
       "0.9924242424242424"
      ]
     },
     "execution_count": 23,
     "metadata": {},
     "output_type": "execute_result"
    }
   ],
   "source": [
    "accuracy_score(df_y_test,predictions)"
   ]
  },
  {
   "cell_type": "code",
   "execution_count": null,
   "id": "ab1da801",
   "metadata": {},
   "outputs": [],
   "source": []
  },
  {
   "cell_type": "code",
   "execution_count": 25,
   "id": "08556785",
   "metadata": {},
   "outputs": [
    {
     "data": {
      "text/plain": [
       "array([[12.        , -0.43551942, -0.53615741,  0.66703842, -0.3873666 ,\n",
       "         2.21562351, -0.60045159]])"
      ]
     },
     "execution_count": 25,
     "metadata": {},
     "output_type": "execute_result"
    }
   ],
   "source": [
    "feed = np.reshape(np.array(df_x_test.iloc[1]),(1,7))\n",
    "feed"
   ]
  },
  {
   "cell_type": "code",
   "execution_count": 26,
   "id": "0009677e",
   "metadata": {},
   "outputs": [
    {
     "data": {
      "text/plain": [
       "array(['mothbeans'], dtype=object)"
      ]
     },
     "execution_count": 26,
     "metadata": {},
     "output_type": "execute_result"
    }
   ],
   "source": [
    "model.predict(feed)"
   ]
  },
  {
   "cell_type": "code",
   "execution_count": 40,
   "id": "0809f630",
   "metadata": {},
   "outputs": [
    {
     "data": {
      "text/plain": [
       "['xgb-model-2022-02-17-08-54-13']"
      ]
     },
     "execution_count": 40,
     "metadata": {},
     "output_type": "execute_result"
    }
   ],
   "source": [
    "import joblib\n",
    "from time import gmtime,strftime\n",
    "model_name = ('xgb-model-'+ strftime(\"%Y-%m-%d-%H-%M-%S\",gmtime()))\n",
    "joblib.dump(model1,model_name)"
   ]
  },
  {
   "cell_type": "code",
   "execution_count": 41,
   "id": "cb25e102",
   "metadata": {},
   "outputs": [],
   "source": [
    "model = joblib.load(model_name)"
   ]
  },
  {
   "cell_type": "code",
   "execution_count": 42,
   "id": "1386a2ae",
   "metadata": {},
   "outputs": [],
   "source": [
    "model._Booster.save_model(model_name)"
   ]
  },
  {
   "cell_type": "code",
   "execution_count": 52,
   "id": "c8326760",
   "metadata": {},
   "outputs": [
    {
     "name": "stderr",
     "output_type": "stream",
     "text": [
      "a xgb-model-2022-02-17-08-54-13\n"
     ]
    }
   ],
   "source": [
    " "
   ]
  },
  {
   "cell_type": "code",
   "execution_count": null,
   "id": "773f498b",
   "metadata": {},
   "outputs": [],
   "source": [
    "#### prefix in S3\n",
    "prefix = \"crop/deployement\"\n",
    "\n",
    "fObj = open(\"model.tar.gz\", \"rb\")\n",
    "key = os.path.join(prefix, model_file_name, \"model.tar.gz\")\n",
    "print(key)\n",
    "boto3.Session().resource(\"s3\").Bucket(bucket).Object(key).upload_fileobj(fObj)"
   ]
  },
  {
   "cell_type": "code",
   "execution_count": null,
   "id": "a6d89936",
   "metadata": {},
   "outputs": [],
   "source": [
    "from sagemaker.amazon.amazon_estimator import get_image_uri\n",
    "\n",
    "#### Get the built-in xgboost container image in Sagemaker to host our model\n",
    "container = get_image_uri(boto3.Session().region_name, \"xgboost\", \"1.3-1\")"
   ]
  },
  {
   "cell_type": "code",
   "execution_count": null,
   "id": "a028d692",
   "metadata": {},
   "outputs": [],
   "source": [
    "%%time\n",
    "from time import gmtime, strftime\n",
    "\n",
    "model_name = model_file_name + strftime(\"%Y-%m-%d-%H-%M-%S\", gmtime())\n",
    "\n",
    "model_url = \"https://s3-{}.amazonaws.com/{}/{}\".format(region, bucket, key)\n",
    "\n",
    "sm_client = boto3.client(\"sagemaker\")\n",
    "\n",
    "print(model_url)\n",
    "\n",
    "primary_container = {\n",
    "    \"Image\": container,\n",
    "    \"ModelDataUrl\": model_url,\n",
    "}\n",
    "\n",
    "create_model_response2 = sm_client.create_model(\n",
    "    ModelName=model_name, ExecutionRoleArn=role, PrimaryContainer=primary_container\n",
    ")\n",
    "\n",
    "print(create_model_response2[\"ModelArn\"])"
   ]
  },
  {
   "cell_type": "code",
   "execution_count": null,
   "id": "430af0d2",
   "metadata": {},
   "outputs": [],
   "source": [
    "from time import gmtime, strftime\n",
    "\n",
    "endpoint_config_name = \"DEMO-XGBoostEndpointConfig-\" + strftime(\"%Y-%m-%d-%H-%M-%S\", gmtime())\n",
    "\n",
    "print(endpoint_config_name)\n",
    "\n",
    "create_endpoint_config_response = sm_client.create_endpoint_config(\n",
    "    EndpointConfigName=endpoint_config_name,\n",
    "    ProductionVariants=[\n",
    "        {\n",
    "            \"InstanceType\": \"ml.m4.xlarge\",\n",
    "            \"InitialInstanceCount\": 1,\n",
    "            \"InitialVariantWeight\": 1,\n",
    "            \"ModelName\": model_name,\n",
    "            \"VariantName\": \"AllTraffic\",\n",
    "        }\n",
    "    ],\n",
    ")\n",
    "\n",
    "print(\"Endpoint Config Arn: \" + create_endpoint_config_response[\"EndpointConfigArn\"])"
   ]
  },
  {
   "cell_type": "code",
   "execution_count": null,
   "id": "c0e765d4",
   "metadata": {},
   "outputs": [],
   "source": [
    "%%time\n",
    "import time\n",
    "\n",
    "endpoint_name = \"crop-recco-Endpoint-\" + strftime(\"%Y-%m-%d-%H-%M-%S\", gmtime())\n",
    "print(endpoint_name)\n",
    "create_endpoint_response = sm_client.create_endpoint(\n",
    "    EndpointName=endpoint_name, EndpointConfigName=endpoint_config_name\n",
    ")\n",
    "print(create_endpoint_response[\"EndpointArn\"])\n",
    "\n",
    "resp = sm_client.describe_endpoint(EndpointName=endpoint_name)\n",
    "status = resp[\"EndpointStatus\"]\n",
    "print(\"Status: \" + status)\n",
    "\n",
    "while status == \"Creating\":\n",
    "    time.sleep(60)\n",
    "    resp = sm_client.describe_endpoint(EndpointName=endpoint_name)\n",
    "    status = resp[\"EndpointStatus\"]\n",
    "    print(\"Status: \" + status)\n",
    "\n",
    "print(\"Arn: \" + resp[\"EndpointArn\"])\n",
    "print(\"Status: \" + status)"
   ]
  },
  {
   "cell_type": "code",
   "execution_count": 27,
   "id": "da42b6c5",
   "metadata": {},
   "outputs": [
    {
     "ename": "NameError",
     "evalue": "name 'boto3' is not defined",
     "output_type": "error",
     "traceback": [
      "\u001b[1;31m---------------------------------------------------------------------------\u001b[0m",
      "\u001b[1;31mNameError\u001b[0m                                 Traceback (most recent call last)",
      "\u001b[1;32m<ipython-input-27-8a38cbcf22a5>\u001b[0m in \u001b[0;36m<module>\u001b[1;34m\u001b[0m\n\u001b[1;32m----> 1\u001b[1;33m \u001b[0mruntime_client\u001b[0m \u001b[1;33m=\u001b[0m \u001b[0mboto3\u001b[0m\u001b[1;33m.\u001b[0m\u001b[0mclient\u001b[0m\u001b[1;33m(\u001b[0m\u001b[1;34m'runtime.sagemaker'\u001b[0m\u001b[1;33m)\u001b[0m\u001b[1;33m\u001b[0m\u001b[1;33m\u001b[0m\u001b[0m\n\u001b[0m",
      "\u001b[1;31mNameError\u001b[0m: name 'boto3' is not defined"
     ]
    }
   ],
   "source": [
    "runtime_client = boto3.client('runtime.sagemaker')"
   ]
  },
  {
   "cell_type": "code",
   "execution_count": null,
   "id": "a9b3276f",
   "metadata": {},
   "outputs": [],
   "source": [
    "%%time\n",
    "import json\n",
    "\n",
    "\n",
    "file_name = (\n",
    "    \"test_point.csv\"\n",
    ")\n",
    "df_x_test.to_csv(file_name,index = False)\n",
    "\n",
    "with open(file_name, \"r\") as f:\n",
    "    next(f)\n",
    "    payload = f.read()\n",
    "    \n",
    "\n",
    "response = runtime_client.invoke_endpoint(\n",
    "    EndpointName=endpoint_name, ContentType=\"text/csv\", Body=payload\n",
    ")\n",
    "\n",
    "##print(response)\n",
    "\n",
    "print(\"Results :\\n\")\n",
    "print()\n",
    "\n",
    "result = response[\"Body\"].read().decode(\"ascii\")\n",
    "\n",
    "# Unpack response\n",
    "print(\"\\nPredicted Class Probabilities: {}.\".format(result))"
   ]
  },
  {
   "cell_type": "code",
   "execution_count": null,
   "id": "5d3090a8",
   "metadata": {},
   "outputs": [],
   "source": [
    "sm_client.delete_endpoint(EndpointName=endpoint_name)"
   ]
  },
  {
   "cell_type": "raw",
   "id": "126d38db",
   "metadata": {},
   "source": [
    "0.9924242424242424"
   ]
  }
 ],
 "metadata": {
  "kernelspec": {
   "display_name": "Python 3",
   "language": "python",
   "name": "python3"
  },
  "language_info": {
   "codemirror_mode": {
    "name": "ipython",
    "version": 3
   },
   "file_extension": ".py",
   "mimetype": "text/x-python",
   "name": "python",
   "nbconvert_exporter": "python",
   "pygments_lexer": "ipython3",
   "version": "3.8.8"
  }
 },
 "nbformat": 4,
 "nbformat_minor": 5
}
